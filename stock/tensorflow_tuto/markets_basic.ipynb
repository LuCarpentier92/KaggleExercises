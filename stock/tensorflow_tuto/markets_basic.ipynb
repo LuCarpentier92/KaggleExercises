{
 "cells": [
  {
   "cell_type": "markdown",
   "metadata": {},
   "source": [
    "# Market analysis and prediction\n",
    "\n",
    "Inspiré de [Victoria Miller sur kaggle](https://www.kaggle.com/code/victoriamiller19/predicting-stock-prices-with-deep-neural-networks/notebook)\n",
    "### Objective:\n",
    "- access market data : yahoo finance limited access, alpha_vantage free!\n",
    "- plot market data\n",
    "- train LSTM model to predict stock price\n",
    "\n",
    "Author: Y. Lacroix"
   ]
  },
  {
   "cell_type": "markdown",
   "metadata": {},
   "source": [
    "%pip install Yahoo-ticker-downloader\n",
    "\n",
    "%pip install yfinance\n",
    "\n",
    "%pip install alpha_vantage"
   ]
  },
  {
   "cell_type": "code",
   "execution_count": null,
   "metadata": {},
   "outputs": [],
   "source": [
    "import pandas as pd\n",
    "import datetime\n",
    "import matplotlib.pyplot as plt\n",
    "import numpy as np\n",
    "from numpy.lib.stride_tricks import as_strided\n",
    "import yfinance as yf\n",
    "import os,time, json,pickle\n",
    "from alpha_vantage.timeseries import TimeSeries \n",
    "import torch\n",
    "import torch.nn as nn\n",
    "import torch.optim as optim\n",
    "from sklearn.preprocessing import MinMaxScaler, StandardScaler\n",
    "from torch.utils.data import DataLoader, TensorDataset"
   ]
  },
  {
   "cell_type": "markdown",
   "metadata": {},
   "source": [
    "### Aller chercher des infos sur les cinquante plus grosses compagnies du SPX 500\n",
    "- créer une classe Company\n",
    "- créer un dico avec comme clef les acronymes des entreprises dans le stock, et des valeurs à ajouter\n",
    "- enrichir la classe au fil de l'eau en la dotant de méthodes etc. "
   ]
  },
  {
   "cell_type": "code",
   "execution_count": 115,
   "metadata": {},
   "outputs": [],
   "source": [
    "#clef API pour accéder aux données de alpha_vantage (gratuite)\n",
    "API_KEY=open(\"alpha_api_key.txt\",\"r\").read()"
   ]
  },
  {
   "cell_type": "code",
   "execution_count": 116,
   "metadata": {},
   "outputs": [],
   "source": [
    "# Liste des 50 plus grosses capitalisations du SPX500 : ticker, Nom, secteur, industrie\n",
    "#génère un json pour l'enregistrer\n",
    "companies_data = [\n",
    "    {\"ticker\": \"AAPL\", \"name\": \"Apple Inc.\", \"sector\": \"Information Technology\", \"industry\": \"Technology Hardware\"},\n",
    "    {\"ticker\": \"MSFT\", \"name\": \"Microsoft Corp.\", \"sector\": \"Information Technology\", \"industry\": \"Software\"},\n",
    "    {\"ticker\": \"AMZN\", \"name\": \"Amazon.com Inc.\", \"sector\": \"Consumer Discretionary\", \"industry\": \"Internet Retail\"},\n",
    "    {\"ticker\": \"NVDA\", \"name\": \"NVIDIA Corp.\", \"sector\": \"Information Technology\", \"industry\": \"Semiconductors\"},\n",
    "    {\"ticker\": \"GOOG\", \"name\": \"Alphabet Inc. (Class C)\", \"sector\": \"Communication Services\", \"industry\": \"Interactive Media\"},\n",
    "    {\"ticker\": \"META\", \"name\": \"Meta Platforms Inc.\", \"sector\": \"Communication Services\", \"industry\": \"Interactive Media\"},\n",
    "    {\"ticker\": \"TSLA\", \"name\": \"Tesla Inc.\", \"sector\": \"Consumer Discretionary\", \"industry\": \"Automobiles\"},\n",
    "    {\"ticker\": \"UNH\", \"name\": \"UnitedHealth Group Inc.\", \"sector\": \"Health Care\", \"industry\": \"Managed Health Care\"},\n",
    "    {\"ticker\": \"XOM\", \"name\": \"Exxon Mobil Corp.\", \"sector\": \"Energy\", \"industry\": \"Oil & Gas\"},\n",
    "    {\"ticker\": \"JNJ\", \"name\": \"Johnson & Johnson\", \"sector\": \"Health Care\", \"industry\": \"Pharmaceuticals\"},\n",
    "    {\"ticker\": \"JPM\", \"name\": \"JPMorgan Chase & Co.\", \"sector\": \"Financials\", \"industry\": \"Banks\"},\n",
    "    {\"ticker\": \"V\", \"name\": \"Visa Inc.\", \"sector\": \"Financials\", \"industry\": \"Consumer Finance\"},\n",
    "    {\"ticker\": \"PG\", \"name\": \"Procter & Gamble Co.\", \"sector\": \"Consumer Staples\", \"industry\": \"Household Products\"},\n",
    "    {\"ticker\": \"MA\", \"name\": \"Mastercard Inc.\", \"sector\": \"Financials\", \"industry\": \"Consumer Finance\"},\n",
    "    {\"ticker\": \"HD\", \"name\": \"Home Depot Inc.\", \"sector\": \"Consumer Discretionary\", \"industry\": \"Home Improvement Retail\"},\n",
    "    {\"ticker\": \"CVX\", \"name\": \"Chevron Corp.\", \"sector\": \"Energy\", \"industry\": \"Oil & Gas\"},\n",
    "    {\"ticker\": \"PEP\", \"name\": \"PepsiCo Inc.\", \"sector\": \"Consumer Staples\", \"industry\": \"Beverages\"},\n",
    "    {\"ticker\": \"KO\", \"name\": \"Coca-Cola Co.\", \"sector\": \"Consumer Staples\", \"industry\": \"Beverages\"},\n",
    "    {\"ticker\": \"MRK\", \"name\": \"Merck & Co. Inc.\", \"sector\": \"Health Care\", \"industry\": \"Pharmaceuticals\"},\n",
    "    {\"ticker\": \"ABBV\", \"name\": \"AbbVie Inc.\", \"sector\": \"Health Care\", \"industry\": \"Pharmaceuticals\"},\n",
    "    {\"ticker\": \"WMT\", \"name\": \"Walmart Inc.\", \"sector\": \"Consumer Staples\", \"industry\": \"Hypermarkets\"},\n",
    "    {\"ticker\": \"LLY\", \"name\": \"Eli Lilly & Co.\", \"sector\": \"Health Care\", \"industry\": \"Pharmaceuticals\"},\n",
    "    {\"ticker\": \"TMO\", \"name\": \"Thermo Fisher Scientific Inc.\", \"sector\": \"Health Care\", \"industry\": \"Life Sciences Tools\"},\n",
    "    {\"ticker\": \"DIS\", \"name\": \"Walt Disney Co.\", \"sector\": \"Communication Services\", \"industry\": \"Entertainment\"},\n",
    "    {\"ticker\": \"ORCL\", \"name\": \"Oracle Corp.\", \"sector\": \"Information Technology\", \"industry\": \"Software\"},\n",
    "    {\"ticker\": \"AVGO\", \"name\": \"Broadcom Inc.\", \"sector\": \"Information Technology\", \"industry\": \"Semiconductors\"},\n",
    "    {\"ticker\": \"IBM\", \"name\": \"International Business Machines Corp.\", \"sector\": \"Information Technology\", \"industry\": \"IT Services\"},\n",
    "    {\"ticker\": \"INTC\", \"name\": \"Intel Corp.\", \"sector\": \"Information Technology\", \"industry\": \"Semiconductors\"},\n",
    "    {\"ticker\": \"HON\", \"name\": \"Honeywell International Inc.\", \"sector\": \"Industrials\", \"industry\": \"Industrial Conglomerates\"},\n",
    "    {\"ticker\": \"PM\", \"name\": \"Philip Morris International Inc.\", \"sector\": \"Consumer Staples\", \"industry\": \"Tobacco\"},\n",
    "    {\"ticker\": \"AMD\", \"name\": \"Advanced Micro Devices Inc.\", \"sector\": \"Information Technology\", \"industry\": \"Semiconductors\"},\n",
    "    {\"ticker\": \"TXN\", \"name\": \"Texas Instruments Inc.\", \"sector\": \"Information Technology\", \"industry\": \"Semiconductors\"},\n",
    "    {\"ticker\": \"CAT\", \"name\": \"Caterpillar Inc.\", \"sector\": \"Industrials\", \"industry\": \"Construction Machinery\"},\n",
    "    {\"ticker\": \"NFLX\", \"name\": \"Netflix Inc.\", \"sector\": \"Communication Services\", \"industry\": \"Entertainment\"},\n",
    "    {\"ticker\": \"BA\", \"name\": \"Boeing Co.\", \"sector\": \"Industrials\", \"industry\": \"Aerospace & Defense\"},\n",
    "    {\"ticker\": \"MMM\", \"name\": \"3M Co.\", \"sector\": \"Industrials\", \"industry\": \"Industrial Conglomerates\"},\n",
    "    {\"ticker\": \"LMT\", \"name\": \"Lockheed Martin Corp.\", \"sector\": \"Industrials\", \"industry\": \"Aerospace & Defense\"},\n",
    "    {\"ticker\": \"F\", \"name\": \"Ford Motor Co.\", \"sector\": \"Consumer Discretionary\", \"industry\": \"Automobiles\"},\n",
    "    {\"ticker\": \"GM\", \"name\": \"General Motors Co.\", \"sector\": \"Consumer Discretionary\", \"industry\": \"Automobiles\"},\n",
    "    {\"ticker\": \"UPS\", \"name\": \"United Parcel Service Inc.\", \"sector\": \"Industrials\", \"industry\": \"Air Freight & Logistics\"},\n",
    "    {\"ticker\": \"LOW\", \"name\": \"Lowe's Companies Inc.\", \"sector\": \"Consumer Discretionary\", \"industry\": \"Home Improvement Retail\"},\n",
    "    {\"ticker\": \"MO\", \"name\": \"Altria Group Inc.\", \"sector\": \"Consumer Staples\", \"industry\": \"Tobacco\"},\n",
    "    {\"ticker\": \"AXP\", \"name\": \"American Express Co.\", \"sector\": \"Financials\", \"industry\": \"Consumer Finance\"},\n",
    "    {\"ticker\": \"QCOM\", \"name\": \"Qualcomm Inc.\", \"sector\": \"Information Technology\", \"industry\": \"Semiconductors\"},\n",
    "    {\"ticker\": \"GE\", \"name\": \"General Electric Co.\", \"sector\": \"Industrials\", \"industry\": \"Industrial Conglomerates\"},\n",
    "    {\"ticker\": \"SBUX\", \"name\": \"Starbucks Corp.\", \"sector\": \"Consumer Discretionary\", \"industry\": \"Restaurants\"},\n",
    "    {\"ticker\": \"NEE\", \"name\": \"NextEra Energy Inc.\", \"sector\": \"Utilities\", \"industry\": \"Electric Utilities\"},\n",
    "    {\"ticker\": \"ADBE\", \"name\": \"Adobe Inc.\", \"sector\": \"Information Technology\", \"industry\": \"Software\"},\n",
    "    {\"ticker\": \"CRM\", \"name\": \"Salesforce Inc.\", \"sector\": \"Information Technology\", \"industry\": \"Software\"},\n",
    "]\n",
    "\n",
    "with open('companies_list.txt', 'w') as convert_file: \n",
    "     convert_file.write(json.dumps(companies_data))"
   ]
  },
  {
   "cell_type": "code",
   "execution_count": 117,
   "metadata": {},
   "outputs": [],
   "source": [
    "#commande pour charger la liste des entreprises\n",
    "companies_data = json.load(open('companies_list.txt'))"
   ]
  },
  {
   "cell_type": "code",
   "execution_count": 118,
   "metadata": {},
   "outputs": [],
   "source": [
    "# Création d'un dictionnaire des companies : clef ticker, valeur triplet (nom,secteur,industrie)\n",
    "companies_dict = {data[\"ticker\"]: (data[\"name\"], data[\"sector\"], data[\"industry\"]) for data in companies_data}"
   ]
  },
  {
   "cell_type": "code",
   "execution_count": 139,
   "metadata": {},
   "outputs": [],
   "source": [
    "#classe Company pour instancier une compagnie à partir du dico : comporte deux méthodes : set_data(interval), get_data(interval)\n",
    "dailies='1min, 5min, 15min, 30min, 60min'.split(', ')\n",
    "columns=[\"open\",\"high\",\"low\",\"close\",\"volume\"]\n",
    "class Company:\n",
    "    def __init__(self, ticker,interval='1D'):\n",
    "        self.ticker=ticker\n",
    "        self.interval=interval\n",
    "        self.name,self.sector,self.industry = companies_dict[ticker]\n",
    "        self.dates=None\n",
    "    def __repr__(self):\n",
    "        return f\"Company :{self.ticker} --> {self.name} ({self.sector}, {self.industry}, interval={self.interval})\"\n",
    "    def set_data(self):\n",
    "        \"\"\"period in '1d','w','1m', attention yfinance accès limité hors premium\"\"\"\n",
    "        if self.interval not in dailies+['1D','1M']:\n",
    "            print(f\"interval not correct, select one in {dailies+['1D','1M']}\")\n",
    "            return\n",
    "        file_name=f\"{self.ticker}_{self.interval}.csv\"\n",
    "        ts = TimeSeries(key=API_KEY, output_format='pandas')\n",
    "        if self.interval in dailies:\n",
    "            data,metadata=ts.get_intraday(symbol=self.ticker, interval=interval,outputsize='full')\n",
    "        elif self.interval=='1D':\n",
    "            data,metadata=ts.get_daily(symbol=self.ticker, outputsize='full')\n",
    "        elif self.interval=='1M':\n",
    "            data,metadata=ts.get_monthly(symbol=self.ticker,outputsize='full')\n",
    "        data.columns=columns\n",
    "        data.index=data.index.strftime('%Y-%m-%d')\n",
    "        data=data.iloc[::-1]\n",
    "        data.to_csv(file_name,index=True)\n",
    "        self.dates=list(data.index)\n",
    "        with open(f\"{self.ticker}_{self.interval}_metadata.json\", 'w') as f:\n",
    "            json.dump(metadata, f, indent=4)\n",
    "    def get_data(self):\n",
    "        if self.interval not in dailies+['1D','1M']:\n",
    "            print(f\"interval not correct, select one in {dailies+['1D','1M']}\")\n",
    "            return None\n",
    "        file_name=f\"{self.ticker+'_'+self.interval}.csv\"\n",
    "        if file_name not in os.listdir():\n",
    "            self.set_data()\n",
    "        return pd.read_csv(file_name,index_col=0),json.load(open(f\"{self.ticker+'_'+self.interval}_metadata.json\"))\n",
    "    def preprocess_data(self,colname,window_size=30):\n",
    "        \"\"\"Méthode qui prépare une colonne pour une mémoire de longueur window_size\"\"\"\n",
    "        df,_=self.get_data()\n",
    "        scaler = MinMaxScaler(feature_range=(0, 1))\n",
    "        data = scaler.fit_transform(df[colname].values.reshape(-1,1))\n",
    "        data_y=data[window_size:].reshape(-1,1)\n",
    "        data_x=as_strided(data,shape=(len(data)-window_size,window_size),strides=(data.strides[0],data.strides[0]))\n",
    "        data_x = torch.tensor(data_x, dtype=torch.float32)  # Convert to tensor\n",
    "        data_x= data_x.unsqueeze(-1)  # Add input_size dimension (now 3D: (num_samples, sequence_length, input_size))\n",
    "        data_y = torch.tensor(data_y, dtype=torch.float32).squeeze(-1)\n",
    "        print(f\"Preprocessed data shapes - X: {data_x.shape}, y: {data_y.shape}\")  # Debugging output\n",
    "        return data_x,data_y, scaler\n",
    "        "
   ]
  },
  {
   "cell_type": "code",
   "execution_count": 140,
   "metadata": {},
   "outputs": [
    {
     "name": "stdout",
     "output_type": "stream",
     "text": [
      "Company :AAPL --> Apple Inc. (Information Technology, Technology Hardware, interval=1D)\n",
      "metadata={'1. Information': 'Daily Prices (open, high, low, close) and Volumes', '2. Symbol': 'AAPL', '3. Last Refreshed': '2024-11-27', '4. Output Size': 'Full size', '5. Time Zone': 'US/Eastern'}\n"
     ]
    },
    {
     "data": {
      "text/html": [
       "<div>\n",
       "<style scoped>\n",
       "    .dataframe tbody tr th:only-of-type {\n",
       "        vertical-align: middle;\n",
       "    }\n",
       "\n",
       "    .dataframe tbody tr th {\n",
       "        vertical-align: top;\n",
       "    }\n",
       "\n",
       "    .dataframe thead th {\n",
       "        text-align: right;\n",
       "    }\n",
       "</style>\n",
       "<table border=\"1\" class=\"dataframe\">\n",
       "  <thead>\n",
       "    <tr style=\"text-align: right;\">\n",
       "      <th></th>\n",
       "      <th>open</th>\n",
       "      <th>high</th>\n",
       "      <th>low</th>\n",
       "      <th>close</th>\n",
       "      <th>volume</th>\n",
       "    </tr>\n",
       "    <tr>\n",
       "      <th>date</th>\n",
       "      <th></th>\n",
       "      <th></th>\n",
       "      <th></th>\n",
       "      <th></th>\n",
       "      <th></th>\n",
       "    </tr>\n",
       "  </thead>\n",
       "  <tbody>\n",
       "    <tr>\n",
       "      <th>1999-11-01</th>\n",
       "      <td>80.00</td>\n",
       "      <td>80.69</td>\n",
       "      <td>77.37</td>\n",
       "      <td>77.62</td>\n",
       "      <td>2487300.0</td>\n",
       "    </tr>\n",
       "    <tr>\n",
       "      <th>1999-11-02</th>\n",
       "      <td>78.00</td>\n",
       "      <td>81.69</td>\n",
       "      <td>77.31</td>\n",
       "      <td>80.25</td>\n",
       "      <td>3564600.0</td>\n",
       "    </tr>\n",
       "    <tr>\n",
       "      <th>1999-11-03</th>\n",
       "      <td>81.62</td>\n",
       "      <td>83.25</td>\n",
       "      <td>81.00</td>\n",
       "      <td>81.50</td>\n",
       "      <td>2932700.0</td>\n",
       "    </tr>\n",
       "    <tr>\n",
       "      <th>1999-11-04</th>\n",
       "      <td>82.06</td>\n",
       "      <td>85.37</td>\n",
       "      <td>80.62</td>\n",
       "      <td>83.62</td>\n",
       "      <td>3384700.0</td>\n",
       "    </tr>\n",
       "    <tr>\n",
       "      <th>1999-11-05</th>\n",
       "      <td>84.62</td>\n",
       "      <td>88.37</td>\n",
       "      <td>84.00</td>\n",
       "      <td>88.31</td>\n",
       "      <td>3721500.0</td>\n",
       "    </tr>\n",
       "  </tbody>\n",
       "</table>\n",
       "</div>"
      ],
      "text/plain": [
       "             open   high    low  close     volume\n",
       "date                                             \n",
       "1999-11-01  80.00  80.69  77.37  77.62  2487300.0\n",
       "1999-11-02  78.00  81.69  77.31  80.25  3564600.0\n",
       "1999-11-03  81.62  83.25  81.00  81.50  2932700.0\n",
       "1999-11-04  82.06  85.37  80.62  83.62  3384700.0\n",
       "1999-11-05  84.62  88.37  84.00  88.31  3721500.0"
      ]
     },
     "execution_count": 140,
     "metadata": {},
     "output_type": "execute_result"
    }
   ],
   "source": [
    "apple=Company('AAPL')\n",
    "print(apple)\n",
    "apple.set_data()\n",
    "df,metadata=apple.get_data()\n",
    "print(f\"metadata={metadata}\")\n",
    "df.head()"
   ]
  },
  {
   "cell_type": "code",
   "execution_count": 141,
   "metadata": {},
   "outputs": [
    {
     "name": "stdout",
     "output_type": "stream",
     "text": [
      "Preprocessed data shapes - X: torch.Size([6280, 30, 1]), y: torch.Size([6280])\n"
     ]
    }
   ],
   "source": [
    "data_x,data_y,scaler=apple.preprocess_data('close')"
   ]
  },
  {
   "cell_type": "markdown",
   "metadata": {},
   "source": [
    "### Maintenant on définit la classe RNN, enfant la la class nn.Module de torch.nn : \n",
    "- elle implémente un nombre donné de couches LSTM de nn\n",
    "- une dernière couche Linear de nn pour la régression\n",
    "- la méthode __forward()__ qui réalise une passe dans le LSTM et le prédiction\n"
   ]
  },
  {
   "cell_type": "code",
   "execution_count": 142,
   "metadata": {},
   "outputs": [],
   "source": [
    "class RNN(nn.Module):\n",
    "    def __init__(self, inputs):\n",
    "        input_size, num_lstm_layers, lstm_size, dropout=inputs\n",
    "        super(RNN, self).__init__()\n",
    "        self.lstm = nn.LSTM(input_size, lstm_size, num_lstm_layers, dropout=dropout, batch_first=True)\n",
    "        self.fc = nn.Linear(lstm_size, 1)  # Output layer pour la régression\n",
    "\n",
    "    def forward(self, x):\n",
    "        out, _ = self.lstm(x)  # LSTM outputs: (output, (h_n, c_n))\n",
    "        out = out[:, -1, :]  # Take the output of the last timestep\n",
    "        return self.fc(out)"
   ]
  },
  {
   "cell_type": "markdown",
   "metadata": {},
   "source": [
    "### Créer une classe Etude avec les infos suivantes :\n",
    "- company, colname,interval\n",
    "- model={\"input_size\": 1, \"num_lstm_layers\": 2, \"lstm_size\": 32, \"dropout\": 0.2}\n",
    "- training={\"device\": \"cpu\", \"batch_size\": 64, \"num_epoch\": 100, \"learning_rate\": 0.01, \"scheduler_step_size\": 40}\n",
    "- infos={\"window_size\":30, \"train_size\":0.8,'val_size':0.75}\n",
    "\n",
    "___avec les méthodes___ : \n",
    "- __repr__() pour l'impression\n",
    "- pickle() pour la sauvegarde"
   ]
  },
  {
   "cell_type": "code",
   "execution_count": 170,
   "metadata": {},
   "outputs": [],
   "source": [
    "class Etude():\n",
    "    def __init__(self,company:Company,colname:str='close',interval:str='1D',model={\"input_size\": 1, \"lstm_size\": 32, \"num_lstm_layers\": 2, \"dropout\": 0.2},\n",
    "                 training={\"device\": \"cpu\", \"batch_size\": 64, \"num_epoch\": 10, \"learning_rate\": 0.01, \"scheduler_step_size\": 40},\n",
    "                 infos={\"window_size\":30, \"train_size\":0.8,'val_size':0.75}, \n",
    "                 plots={\"xticks_interval\": 90,\"color_actual\": \"#001f3f\",\"color_train\": \"#3D9970\",\"color_val\": \"#0074D9\",\"color_pred_train\": \"#3D9970\",\n",
    "                        \"color_pred_val\": \"#0074D9\",\"color_pred_test\": \"#FF4136\"}):\n",
    "        self.company=company\n",
    "        self.colname=colname\n",
    "        self.interval=interval\n",
    "        self.model=model\n",
    "        self.training=training\n",
    "        self.infos=infos\n",
    "        self.plots=plots\n",
    "        self.data_x,self.data_y,self.scaler=self.company.preprocess_data(self.colname,self.infos[\"window_size\"])\n",
    "        self.rnn=RNN(tuple(self.model.values()))\n",
    "    def __repr__(self):\n",
    "        out=f\"Model {self.company.ticker} for {self.colname}, interval={self.interval}\\n{self.company}\\n\"\n",
    "        return out+f\"model:{self.model}\\ntraining:{self.training}\\nInfos:{self.infos}\\n\"\n",
    "    def __dict__(self):\n",
    "        return {'company':self.company,'colname':self.colname,'interval':self.interval,'model':self.model,'training':self.training, 'infos':self.infos}\n",
    "    def pickle(self,name):\n",
    "        with open(f\"{name}.pkl\",\"wb\") as f:\n",
    "            pickle.dump(self,f)\n",
    "    def plot_data(self,predictions=[]):\n",
    "        data_dates=self.company.dates\n",
    "        num_data_points = len(data_dates)\n",
    "        display_date_range = \"from \" + data_dates[0] + \" to \" + data_dates[num_data_points-1]\n",
    "        plt.figure(figsize=(16,5))\n",
    "        plt.plot(data_dates[self.infos[\"window_size\"]:],self.data_y,color=self.plots[\"color_actual\"],label=\"Obs.\")\n",
    "        if len(predictions):\n",
    "            train_idx = int(len(self.data_y) * self.infos[\"train_size\"])\n",
    "            plt.plot(train_idx+self.infos[\"window_size\"]+np.array(range(len(predictions))),predictions, color=self.plots[\"color_pred_test\"],label='Preds.')\n",
    "        xticks = [data_dates[i] if ((i%self.plots[\"xticks_interval\"]==0 and (num_data_points-i) > self.plots[\"xticks_interval\"]) or i==num_data_points-1) \n",
    "                  else None for i in range(num_data_points)] \n",
    "        x = np.arange(0,len(xticks))\n",
    "        plt.xticks(x, xticks, rotation='vertical')\n",
    "        title=\"Daily close price for \" + self.company.ticker + \", \" + display_date_range\n",
    "        if len(predictions):\n",
    "            title+=f\"\\n Predictions from {data_dates[train_idx+self.infos[\"window_size\"]]} to {data_dates[-1]}\"\n",
    "        plt.title(title)\n",
    "        plt.grid(which='major', axis='y', linestyle='--')\n",
    "        plt.legend()\n",
    "        plt.show()\n",
    "\n",
    "    def train(self):\n",
    "        device = self.training[\"device\"]\n",
    "        train_split = self.infos[\"train_size\"]\n",
    "        val_split = self.infos[\"val_size\"]\n",
    "        batch_size = self.training[\"batch_size\"]\n",
    "        num_epoch = self.training[\"num_epoch\"]\n",
    "        learning_rate = self.training[\"learning_rate\"]\n",
    "        scheduler_step_size = self.training[\"scheduler_step_size\"]\n",
    "        # Préparation des données\n",
    "        train_idx = int(len(self.data_x) * train_split)\n",
    "        val_idx = int(train_idx*val_split)\n",
    "        dataset=TensorDataset(self.data_x,self.data_y)\n",
    "        train_dataset = TensorDataset(self.data_x[:val_idx], self.data_y[:val_idx])\n",
    "        val_dataset = TensorDataset(self.data_x[val_idx:train_idx], self.data_y[val_idx:train_idx])\n",
    "        train_loader = DataLoader(train_dataset, batch_size=batch_size, shuffle=True)\n",
    "        val_loader = DataLoader(val_dataset, batch_size=batch_size)\n",
    "        # Initialisation optimizer, and scheduler\n",
    "        criterion = nn.MSELoss()\n",
    "        optimizer = optim.Adam(self.rnn.parameters(), lr=learning_rate)\n",
    "        scheduler = optim.lr_scheduler.StepLR(optimizer, step_size=scheduler_step_size, gamma=0.1)\n",
    "        #Entraînement du modèle\n",
    "        for epoch in range(num_epoch):\n",
    "            #Train\n",
    "            self.rnn.train()\n",
    "            train_loss = 0\n",
    "            for X_batch, y_batch in train_loader:\n",
    "                X_batch, y_batch = X_batch.to(device), y_batch.to(device)\n",
    "                optimizer.zero_grad()\n",
    "                output = self.rnn(X_batch)\n",
    "                loss = criterion(output, y_batch.unsqueeze(-1))\n",
    "                loss.backward()\n",
    "                optimizer.step()\n",
    "                train_loss += loss.item()\n",
    "            train_loss /= len(train_loader)\n",
    "            # Validation\n",
    "            self.rnn.eval()\n",
    "            val_loss = 0\n",
    "            with torch.no_grad():\n",
    "                for X_batch, y_batch in val_loader:\n",
    "                    X_batch, y_batch = X_batch.to(device), y_batch.to(device)\n",
    "                    output = self.rnn(X_batch)\n",
    "                    val_loss += criterion(output, y_batch.unsqueeze(-1)).item()\n",
    "            val_loss /= len(val_loader)\n",
    "            scheduler.step()\n",
    "            print(f\"Epoch {epoch+1}/{num_epoch} - Train Loss: {train_loss:.4f}, Val Loss: {val_loss:.4f}\")\n",
    "    def predict(self):\n",
    "        train_idx = int(len(self.data_x) * self.infos[\"train_size\"])\n",
    "        test_dataset = TensorDataset(self.data_x[train_idx:], self.data_y[train_idx:])\n",
    "        test_loader = DataLoader(test_dataset, batch_size=self.training[\"batch_size\"])\n",
    "        self.rnn.eval()  # Set the model to evaluation mode\n",
    "        predictions = []\n",
    "        with torch.no_grad():\n",
    "            for X_batch, _ in test_loader:  # Labels (`_`) are not needed for predictions\n",
    "                X_batch = X_batch.to(self.training[\"device\"])\n",
    "                preds = self.rnn(X_batch)\n",
    "                predictions.append(preds.cpu().numpy())  # Collect predictions\n",
    "\n",
    "        # Flatten predictions and invert scaling\n",
    "        predictions = np.concatenate(predictions).flatten()\n",
    "        predictions = self.scaler.inverse_transform(predictions.reshape(-1, 1)).flatten()  # Invert scaling\n",
    "        return predictions\n",
    "\n",
    "def charger_etude(name):\n",
    "    with open(f\"{name}.pkl\",\"rb\") as f:\n",
    "        return pickle.load(f)"
   ]
  },
  {
   "cell_type": "code",
   "execution_count": 171,
   "metadata": {},
   "outputs": [
    {
     "name": "stdout",
     "output_type": "stream",
     "text": [
      "Preprocessed data shapes - X: torch.Size([6280, 30, 1]), y: torch.Size([6280])\n",
      "Epoch 1/10 - Train Loss: 0.0732, Val Loss: 0.0052\n",
      "Epoch 2/10 - Train Loss: 0.0709, Val Loss: 0.0055\n",
      "Epoch 3/10 - Train Loss: 0.0709, Val Loss: 0.0042\n",
      "Epoch 4/10 - Train Loss: 0.0711, Val Loss: 0.0051\n",
      "Epoch 5/10 - Train Loss: 0.0710, Val Loss: 0.0045\n",
      "Epoch 6/10 - Train Loss: 0.0710, Val Loss: 0.0049\n",
      "Epoch 7/10 - Train Loss: 0.0712, Val Loss: 0.0065\n",
      "Epoch 8/10 - Train Loss: 0.0711, Val Loss: 0.0046\n",
      "Epoch 9/10 - Train Loss: 0.0710, Val Loss: 0.0046\n",
      "Epoch 10/10 - Train Loss: 0.0710, Val Loss: 0.0046\n"
     ]
    }
   ],
   "source": [
    "apple_model=Etude(apple,'close','1D')\n",
    "apple_model.train()\n",
    "predictions=apple_model.predict()"
   ]
  },
  {
   "cell_type": "code",
   "execution_count": 172,
   "metadata": {},
   "outputs": [
    {
     "data": {
      "text/plain": [
       "(6310, 1256, 6280, 1256)"
      ]
     },
     "execution_count": 172,
     "metadata": {},
     "output_type": "execute_result"
    }
   ],
   "source": [
    "train_idx = int(len(apple_model.data_y) * apple_model.infos[\"train_size\"])\n",
    "len(apple_model.company.dates),len(predictions),len(apple_model.data_y),len(range(train_idx+apple_model.infos[\"window_size\"],len(apple_model.company.dates)))"
   ]
  },
  {
   "cell_type": "code",
   "execution_count": 173,
   "metadata": {},
   "outputs": [
    {
     "data": {
      "image/png": "[encoded data removed]",
      "text/plain": [
       "<Figure size 1600x500 with 1 Axes>"
      ]
     },
     "metadata": {},
     "output_type": "display_data"
    }
   ],
   "source": [
    "apple_model.plot_data(predictions)"
   ]
  },
  {
   "cell_type": "code",
   "execution_count": 125,
   "metadata": {},
   "outputs": [],
   "source": [
    "class Config():\n",
    "    def __init__(self,key,ticker,outputsize=\"full\", data={\"window size\":20, \"train_size\":0.8,'val_size':0.75},\n",
    "                 plots={\"show_plots\":True,\"xtick_interval\":90,\"color_actual\": \"#001f3f\",\"color_train\": \"#3D9970\",\"color_val\": \"#0074D9\",\n",
    "                        \"color_pred_train\": \"#3D9970\",\"color_pred_val\": \"#0074D9\",\"color_pred_test\": \"#FF4136\",},\n",
    "                        model={\"input_size\": 1, \"num_lstm_layers\": 2, \"lstm_size\": 32, \"dropout\": 0.2},\n",
    "                        training={\"device\": \"cpu\", \"batch_size\": 64, \"num_epoch\": 100, \"learning_rate\": 0.01, \"scheduler_step_size\": 40}):\n",
    "        self.key=key\n",
    "        self.ticker=ticker\n",
    "        self.outputsize=outputsize\n",
    "        self.data=data\n",
    "        self.plots=plots\n",
    "        self.model=model\n",
    "        self.training=training\n",
    "        self.colname=None\n",
    "        self.data_x,self.data_y,self.scaler=None,None,None\n",
    "        self.df=self.get_data()\n",
    "    def __repr__(self):\n",
    "        out=f\"Config:\\n-Ticker : {self.ticker}\\n-outputsize : {self.outputsize}\\n-data : {self.data}\\n\"\n",
    "        out+=f\"-plots : {self.plots}\\n-model : {self.model}\\n-training : {self.training}\"\n",
    "        return out\n",
    "    def get_data(self):\n",
    "        if self.ticker+'.csv' in os.listdir():\n",
    "            return pd.read_csv(f\"{self.ticker}.csv\",index_col=0)\n",
    "        else:\n",
    "            ts = TimeSeries(key=self.key, output_format='pandas')\n",
    "            data, _ = ts.get_daily(symbol=self.ticker,outputsize=self.outputsize)\n",
    "            data.columns=[\"Open\",\"High\",\"Low\",\"Close\",\"Volume\"]\n",
    "            data.index = data.index.strftime('%Y-%m-%d')\n",
    "            data=data.iloc[::-1]\n",
    "            #data_date=data.index.to_list()\n",
    "            #data_date.reverse()\n",
    "            data.to_csv(f\"{self.ticker}.csv\")\n",
    "        return pd.read_csv(f\"{self.ticker}.csv\", index_col=0)\n",
    "    def plot(self):\n",
    "        data=pd.read_csv(f\"{self.ticker}.csv\")\n",
    "        num_data_points = len(data.date)\n",
    "        display_date_range = \"from \" + data.date[0] + \" to \" + data.date[num_data_points-1]\n",
    "        print(\"Number data points:\", num_data_points, display_date_range)\n",
    "        fig = plt.figure(figsize=(25, 5), dpi=80)\n",
    "        fig.patch.set_facecolor((1.0, 1.0, 1.0))\n",
    "        plt.plot(data.date, data.Close, color=self.plots[\"color_actual\"])\n",
    "        xticks = [data.date[i] if ((i%self.plots[\"xtick_interval\"]==0 and (num_data_points-i) > self.plots[\"xtick_interval\"]) or i==num_data_points-1) \n",
    "                    else None for i in range(num_data_points)] # make x ticks nice\n",
    "        x = np.arange(0,len(xticks))\n",
    "        plt.xticks(x, xticks, rotation='vertical')\n",
    "        plt.title(\"Daily close price for \" + companies_dict[self.ticker].ticker + \", \" + display_date_range)\n",
    "        plt.grid(which='major', axis='y', linestyle='--')\n",
    "        plt.show()\n",
    "    def __dict__(self):\n",
    "        return {'ticker':self.ticker,'outputsize':self.outputsize,'data':self.data,'plot':self.plots,'model':self.model,'training':self.training}\n",
    "    def dump(self):\n",
    "        with open(F\"{self.ticker}\"+'_config.json', 'w') as f:\n",
    "            json.dump(self.__dict__(), f, indent=4)\n",
    "    def preprocess_data(self,colname):\n",
    "        if self.colname is not None:\n",
    "            return self.data_x,self.data_y,self.scaler\n",
    "        self.colname=colname\n",
    "        df=self.get_data()\n",
    "        window_size=self.data[\"window size\"]\n",
    "        scaler = MinMaxScaler(feature_range=(0, 1))\n",
    "        data = scaler.fit_transform(df[colname].values.reshape(-1,1))\n",
    "        data_x, data_y = [], []\n",
    "        for i in range(len(data) - window_size):\n",
    "            data_x.append(data[i:(i + window_size), 0])\n",
    "            data_y.append(data[i + window_size, 0])\n",
    "        data_x = torch.tensor(data_x, dtype=torch.float32)  # Convert to tensor\n",
    "        data_x= data_x.unsqueeze(-1)  # Add input_size dimension (now 3D: (num_samples, sequence_length, input_size))\n",
    "        data_y = torch.tensor(data_y, dtype=torch.float32)\n",
    "        print(f\"Preprocessed data shapes - X: {data_x.shape}, y: {data_y.shape}\")  # Debugging output\n",
    "        self.data_x,self.data_y,self.scaler=data_x,self.data_y,self.scaler=data_x,data_y,scaler\n",
    "        return data_x,data_y, scaler\n",
    "\n"
   ]
  },
  {
   "cell_type": "code",
   "execution_count": 126,
   "metadata": {},
   "outputs": [
    {
     "ename": "AttributeError",
     "evalue": "'tuple' object has no attribute 'ticker'",
     "output_type": "error",
     "traceback": [
      "\u001b[0;31m---------------------------------------------------------------------------\u001b[0m",
      "\u001b[0;31mAttributeError\u001b[0m                            Traceback (most recent call last)",
      "Cell \u001b[0;32mIn[126], line 2\u001b[0m\n\u001b[1;32m      1\u001b[0m boeing\u001b[38;5;241m=\u001b[39mcompanies_dict[\u001b[38;5;124m\"\u001b[39m\u001b[38;5;124mBA\u001b[39m\u001b[38;5;124m\"\u001b[39m]\n\u001b[0;32m----> 2\u001b[0m config\u001b[38;5;241m=\u001b[39mConfig(API_KEY,\u001b[43mboeing\u001b[49m\u001b[38;5;241;43m.\u001b[39;49m\u001b[43mticker\u001b[49m)\n\u001b[1;32m      3\u001b[0m config\u001b[38;5;241m.\u001b[39mdump()\n\u001b[1;32m      4\u001b[0m df\u001b[38;5;241m=\u001b[39mconfig\u001b[38;5;241m.\u001b[39mget_data()\n",
      "\u001b[0;31mAttributeError\u001b[0m: 'tuple' object has no attribute 'ticker'"
     ]
    }
   ],
   "source": [
    "boeing=companies_dict[\"BA\"]\n",
    "config=Config(API_KEY,boeing.ticker)\n",
    "config.dump()\n",
    "df=config.get_data()\n",
    "print(f\"df.shape={df.shape} from {df.index[0]} to {df.index[-1]}, with columns ={df.columns.tolist()}\")\n",
    "df.head()"
   ]
  },
  {
   "cell_type": "code",
   "execution_count": null,
   "metadata": {},
   "outputs": [],
   "source": [
    "data_x,data_y,scaler=config.preprocess_data(\"Close\")\n",
    "print(config.colname)"
   ]
  },
  {
   "cell_type": "markdown",
   "metadata": {},
   "source": [
    "## Preparation des données\n",
    "- minmaxscaler sur colonne à prédire;\n",
    "- en fonction de la largeur de la fenêtre glissante, générer les données d'entraînement;"
   ]
  },
  {
   "cell_type": "code",
   "execution_count": null,
   "metadata": {},
   "outputs": [],
   "source": [
    "class RNN(nn.Module):\n",
    "    def __init__(self, input_size, lstm_size, num_lstm_layers, dropout):\n",
    "        super(RNN, self).__init__()\n",
    "        self.lstm = nn.LSTM(input_size, lstm_size, num_lstm_layers, dropout=dropout, batch_first=True)\n",
    "        self.fc = nn.Linear(lstm_size, 1)  # Output layer for regression\n",
    "\n",
    "    def forward(self, x):\n",
    "        out, _ = self.lstm(x)  # LSTM outputs: (output, (h_n, c_n))\n",
    "        out = out[:, -1, :]  # Take the output of the last timestep\n",
    "        return self.fc(out)"
   ]
  },
  {
   "cell_type": "code",
   "execution_count": null,
   "metadata": {},
   "outputs": [],
   "source": [
    "def train_rnn(config):\n",
    "    if config.colname is None: \n",
    "        print(f\"You need to preprocess config first, defining a colname to extract data from\")\n",
    "        return None,None\n",
    "    # Extract config parameters\n",
    "    device = config.training[\"device\"]\n",
    "    train_split = config.data[\"train_size\"]\n",
    "    val_split = config.data[\"val_size\"]\n",
    "    batch_size = config.training[\"batch_size\"]\n",
    "    num_epoch = config.training[\"num_epoch\"]\n",
    "    learning_rate = config.training[\"learning_rate\"]\n",
    "    scheduler_step_size = config.training[\"scheduler_step_size\"]\n",
    "\n",
    "    # Prepare data\n",
    "    X, y, scaler = config.data_x,config.data_y,config.scaler\n",
    "    train_idx = int(len(X) * train_split)\n",
    "    val_idx = int(train_idx*val_split)\n",
    "    dataset=TensorDataset(X,y)\n",
    "    train_dataset = TensorDataset(X[:val_idx], y[:val_idx])\n",
    "    val_dataset = TensorDataset(X[val_idx:train_idx], y[val_idx:train_idx])\n",
    "    \n",
    "    train_loader = DataLoader(train_dataset, batch_size=batch_size, shuffle=True)\n",
    "    val_loader = DataLoader(val_dataset, batch_size=batch_size)\n",
    "\n",
    "    # Initialize model, optimizer, and scheduler\n",
    "    model = RNN(input_size=X.shape[2], \n",
    "                lstm_size=config.model[\"lstm_size\"], \n",
    "                num_lstm_layers=config.model[\"num_lstm_layers\"], \n",
    "                dropout=config.model[\"dropout\"]).to(device)\n",
    "    criterion = nn.MSELoss()\n",
    "    optimizer = optim.Adam(model.parameters(), lr=learning_rate)\n",
    "    scheduler = optim.lr_scheduler.StepLR(optimizer, step_size=scheduler_step_size, gamma=0.1)\n",
    "\n",
    "    # Training loop\n",
    "    for epoch in range(num_epoch):\n",
    "        model.train()\n",
    "        train_loss = 0\n",
    "        for X_batch, y_batch in train_loader:\n",
    "            X_batch, y_batch = X_batch.to(device), y_batch.to(device)\n",
    "\n",
    "            optimizer.zero_grad()\n",
    "            output = model(X_batch)\n",
    "            loss = criterion(output, y_batch.unsqueeze(-1))\n",
    "            loss.backward()\n",
    "            optimizer.step()\n",
    "\n",
    "            train_loss += loss.item()\n",
    "\n",
    "        train_loss /= len(train_loader)\n",
    "\n",
    "        # Validation\n",
    "        model.eval()\n",
    "        val_loss = 0\n",
    "        with torch.no_grad():\n",
    "            for X_batch, y_batch in val_loader:\n",
    "                X_batch, y_batch = X_batch.to(device), y_batch.to(device)\n",
    "                output = model(X_batch)\n",
    "                val_loss += criterion(output, y_batch.unsqueeze(-1)).item()\n",
    "        val_loss /= len(val_loader)\n",
    "\n",
    "        scheduler.step()\n",
    "\n",
    "        print(f\"Epoch {epoch+1}/{num_epoch} - Train Loss: {train_loss:.4f}, Val Loss: {val_loss:.4f}\")\n",
    "\n",
    "    return model, dataset, scaler\n",
    "\n"
   ]
  },
  {
   "cell_type": "code",
   "execution_count": null,
   "metadata": {},
   "outputs": [],
   "source": [
    "# Train the model\n",
    "%time trained_model, dataset, scaler = train_rnn(config)"
   ]
  },
  {
   "cell_type": "code",
   "execution_count": null,
   "metadata": {},
   "outputs": [],
   "source": [
    "def predict_rnn(model, dataloader, scaler, device):\n",
    "    model.eval()  # Set the model to evaluation mode\n",
    "    predictions = []\n",
    "\n",
    "    with torch.no_grad():\n",
    "        for X_batch, _ in dataloader:  # Labels (`_`) are not needed for predictions\n",
    "            X_batch = X_batch.to(device)\n",
    "            preds = model(X_batch)\n",
    "            predictions.append(preds.cpu().numpy())  # Collect predictions\n",
    "\n",
    "    # Flatten predictions and invert scaling\n",
    "    predictions = np.concatenate(predictions).flatten()\n",
    "    predictions = scaler.inverse_transform(predictions.reshape(-1, 1)).flatten()  # Invert scaling\n",
    "    return predictions"
   ]
  },
  {
   "cell_type": "code",
   "execution_count": null,
   "metadata": {},
   "outputs": [],
   "source": [
    "date_debut_pred='2022-11'\n",
    "split_idx = list(df.index).index(date_debut_pred+'-01')#int(len(config.data_x) * config.data[\"train_size\"])\n",
    "X_test = dataset.tensors[0][split_idx:]\n",
    "y_test = dataset.tensors[1][split_idx:]\n",
    "\n",
    "# Create a new TensorDataset\n",
    "test_dataset = TensorDataset(X_test, y_test)\n",
    "print(f\"len(dataset)={len(dataset)}, len(test_dataset)={len(test_dataset)}\")\n",
    "test_loader = DataLoader(test_dataset, batch_size=config.training[\"batch_size\"])\n",
    "\n",
    "predictions = predict_rnn(trained_model, test_loader, scaler, config.training[\"device\"])\n",
    "print(list(zip(np.array(predictions[:10]).astype(\"float32\"),df.Close[split_idx+config.data[\"window size\"]:][:10])))"
   ]
  },
  {
   "cell_type": "code",
   "execution_count": null,
   "metadata": {},
   "outputs": [],
   "source": [
    "print(f\"len(predictions)={len(predictions)}, len(data_y[split_idx:])={len(config.data_y[split_idx:])}, len(df.index[split_idx:])={len(df.index[split_idx:])}\")"
   ]
  },
  {
   "cell_type": "code",
   "execution_count": null,
   "metadata": {},
   "outputs": [],
   "source": [
    "%%time\n",
    "# on va afficher la moyenne mensuelle jusqu'au 2024-10-01 (en forward) des valeurs observées et on greffe dessus les valeurs prédits\n",
    "#pour cela il faut définir les années, leurs mois, leurs jours\n",
    "ymd=['year','month','day']\n",
    "dates={i:{k:v for k,v in list(zip(ymd,date.split('-')))} for i,date in enumerate(df.index)}\n",
    "years=np.unique([dates[i]['year'] for i in dates])\n",
    "months={year:np.unique([dates[i]['month'] for i in dates if dates[i]['year']==year]) for year in years}\n",
    "days={(year,month):[dates[i]['day'] for i in dates if (dates[i]['year'],dates[i]['month'])==(year,month)] for year in years for month in months[year]}"
   ]
  },
  {
   "cell_type": "code",
   "execution_count": null,
   "metadata": {},
   "outputs": [],
   "source": [
    "%%time \n",
    "moyennes_mensuelles={year+'-'+month:np.mean([df.loc[year+'-'+month+'-'+day].Close for day in days[(year,month)]]) for year,month in days}\n",
    "moyennes_predites={year+'-'+month:np.mean([df.loc[year+'-'+month+'-'+day].Close for day in days[(year,month)]]) \n",
    "                   for year,month in days if year+'-'+month+'-'>=date_debut_pred}\n"
   ]
  },
  {
   "cell_type": "code",
   "execution_count": null,
   "metadata": {},
   "outputs": [],
   "source": [
    "plt.figure(figsize=(16,4))\n",
    "plt.plot(moyennes_mensuelles.keys(),moyennes_mensuelles.values(), label=\"Moyennes M obs.\")\n",
    "plt.scatter(moyennes_predites.keys(),moyennes_predites.values(), color='r',label=\"Moyennes M pred..\")\n",
    "clefs=sorted(list(moyennes_mensuelles))\n",
    "xticks=[clefs[i] for i in range(0,len(clefs),6)]\n",
    "print(type(xticks[0]))\n",
    "plt.xticks(xticks,rotation=90)\n",
    "plt.xlabel('Date')\n",
    "plt.ylabel('Close')\n",
    "plt.title('Plot of Close with Semi-Annual Ticks')\n",
    "plt.legend()\n",
    "plt.tight_layout()\n",
    "\n",
    "# Show the plot\n",
    "plt.show()\n",
    "plt.show()"
   ]
  },
  {
   "cell_type": "code",
   "execution_count": null,
   "metadata": {},
   "outputs": [],
   "source": [
    "plt.figure(figsize=(16, 5)) \n",
    "\n",
    "plt.plot(df.index[split_idx+config.data[\"window size\"]:], np.array(predictions), label='Predictions')\n",
    "plt.plot(df.index[split_idx+config.data[\"window size\"]:],df.Close[split_idx+config.data[\"window size\"]:], label='True Values')\n",
    "plt.xlabel('Time')\n",
    "plt.ylabel('Close')\n",
    "plt.legend()\n",
    "plt.show()"
   ]
  },
  {
   "cell_type": "code",
   "execution_count": null,
   "metadata": {},
   "outputs": [],
   "source": [
    "np.array(config.data_y).shape"
   ]
  },
  {
   "cell_type": "code",
   "execution_count": null,
   "metadata": {},
   "outputs": [],
   "source": []
  }
 ],
 "metadata": {
  "kernelspec": {
   "display_name": "torch",
   "language": "python",
   "name": "python3"
  },
  "language_info": {
   "codemirror_mode": {
    "name": "ipython",
    "version": 3
   },
   "file_extension": ".py",
   "mimetype": "text/x-python",
   "name": "python",
   "nbconvert_exporter": "python",
   "pygments_lexer": "ipython3",
   "version": "3.12.3"
  }
 },
 "nbformat": 4,
 "nbformat_minor": 2
}
