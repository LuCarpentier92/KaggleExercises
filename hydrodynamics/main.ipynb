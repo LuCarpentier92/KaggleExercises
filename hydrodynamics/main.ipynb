{
 "cells": [
  {
   "cell_type": "code",
   "execution_count": 42,
   "id": "initial_id",
   "metadata": {
    "collapsed": true,
    "ExecuteTime": {
     "end_time": "2024-10-26T21:45:51.813367300Z",
     "start_time": "2024-10-26T21:45:51.794362400Z"
    }
   },
   "outputs": [],
   "source": [
    "%load_ext tensorboard\n",
    "\n",
    "import tensorflow as tf\n",
    "import datetime\n",
    "from tensorflow import keras \n",
    "import pandas as pd\n",
    "import matplotlib.pyplot as plt\n",
    "from sklearn.model_selection import train_test_split\n",
    "import time\n",
    "import numpy as np\n",
    "\n",
    "from sklearn.preprocessing import StandardScaler\n",
    "from sklearn.model_selection import KFold\n",
    "\n",
    "from tensorflow.keras import regularizers\n",
    "from tensorflow.keras.callbacks import EarlyStopping\n",
    "from tensorflow.keras.layers import Dropout\n",
    "from tensorflow.keras.callbacks import ModelCheckpoint"
   ]
  },
  {
   "cell_type": "markdown",
   "source": [
    "# Import des données et process"
   ],
   "metadata": {
    "collapsed": false
   },
   "id": "5b7bc93ec83b5be8"
  },
  {
   "cell_type": "code",
   "execution_count": 41,
   "outputs": [
    {
     "name": "stdout",
     "output_type": "stream",
     "text": [
      "   Longitudinal position  Prismatic coefficient  Length-displacement ratio  \\\n",
      "0                   -2.3                  0.568                       4.78   \n",
      "1                   -2.3                  0.568                       4.78   \n",
      "2                   -2.3                  0.568                       4.78   \n",
      "3                   -2.3                  0.568                       4.78   \n",
      "4                   -2.3                  0.568                       4.78   \n",
      "\n",
      "   Beam-draught ratio  Length-beam ratio  Froude number  Residuary resistance  \n",
      "0                3.99               3.17          0.125                  0.11  \n",
      "1                3.99               3.17          0.150                  0.27  \n",
      "2                3.99               3.17          0.175                  0.47  \n",
      "3                3.99               3.17          0.200                  0.78  \n",
      "4                3.99               3.17          0.225                  1.18   \n",
      "\n",
      "Il y a \n",
      "Longitudinal position        0\n",
      "Prismatic coefficient        0\n",
      "Length-displacement ratio    0\n",
      "Beam-draught ratio           0\n",
      "Length-beam ratio            0\n",
      "Froude number                0\n",
      "Residuary resistance         0\n",
      "dtype: int64 \n",
      "données manquantes\n",
      "       Longitudinal position  Prismatic coefficient  \\\n",
      "count             308.000000             308.000000   \n",
      "mean               -2.381818               0.564136   \n",
      "std                 1.513219               0.023290   \n",
      "min                -5.000000               0.530000   \n",
      "25%                -2.400000               0.546000   \n",
      "50%                -2.300000               0.565000   \n",
      "75%                -2.300000               0.574000   \n",
      "max                 0.000000               0.600000   \n",
      "\n",
      "       Length-displacement ratio  Beam-draught ratio  Length-beam ratio  \\\n",
      "count                 308.000000          308.000000         308.000000   \n",
      "mean                    4.788636            3.936818           3.206818   \n",
      "std                     0.253057            0.548193           0.247998   \n",
      "min                     4.340000            2.810000           2.730000   \n",
      "25%                     4.770000            3.750000           3.150000   \n",
      "50%                     4.780000            3.955000           3.150000   \n",
      "75%                     5.100000            4.170000           3.510000   \n",
      "max                     5.140000            5.350000           3.640000   \n",
      "\n",
      "       Froude number  Residuary resistance  \n",
      "count     308.000000            308.000000  \n",
      "mean        0.287500             10.495357  \n",
      "std         0.100942             15.160490  \n",
      "min         0.125000              0.010000  \n",
      "25%         0.200000              0.777500  \n",
      "50%         0.287500              3.065000  \n",
      "75%         0.375000             12.815000  \n",
      "max         0.450000             62.420000  \n"
     ]
    }
   ],
   "source": [
    "column_names = [\"Longitudinal position\",\n",
    "                \"Prismatic coefficient\",\n",
    "                \"Length-displacement ratio\",\n",
    "                \"Beam-draught ratio\",\n",
    "                \"Length-beam ratio\",\n",
    "                \"Froude number\",\n",
    "                \"Residuary resistance\",\n",
    "                ]\n",
    "\n",
    "\n",
    "data = pd.read_csv('yacht_hydrodynamics.data', delim_whitespace=True, names = column_names)\n",
    "\n",
    "print(data.head(5),'\\n')\n",
    "\n",
    "\n",
    "print(f\"Il y a \\n\"\n",
    "      f\"{data.isnull().sum()} \"\n",
    "      f\"\\ndonnées manquantes\")\n",
    "\n",
    "\n",
    "print(data.describe())"
   ],
   "metadata": {
    "collapsed": false,
    "ExecuteTime": {
     "end_time": "2024-10-26T21:40:52.645449900Z",
     "start_time": "2024-10-26T21:40:52.613450400Z"
    }
   },
   "id": "afe44bb332de29e9"
  },
  {
   "cell_type": "markdown",
   "source": [
    "# Features et target"
   ],
   "metadata": {
    "collapsed": false
   },
   "id": "504d431784427070"
  },
  {
   "cell_type": "code",
   "execution_count": null,
   "outputs": [],
   "source": [
    "x = data.drop(columns=[\"Residuary resistance\"])\n",
    "y=data[\"Residuary resistance\"]\n",
    "\n",
    "x_train, x_test, y_train, y_test = train_test_split(x, y, test_size=0.2, random_state=int(time.time()))\n",
    "\n",
    "\n",
    "print(f\"La taille de x train est {x_train.shape}\")\n",
    "print(f\"La taille de x test est {x_test.shape}\")\n",
    "\n",
    "\n",
    "scaler = StandardScaler()\n",
    "\n",
    "x_train = scaler.fit_transform(x_train)\n",
    "x_test = scaler.transform(x_test)\n"
   ],
   "metadata": {
    "collapsed": false
   },
   "id": "4b6707befb4c175d"
  },
  {
   "cell_type": "markdown",
   "source": [
    "# Création du modèle avec subclassing"
   ],
   "metadata": {
    "collapsed": false
   },
   "id": "15fd18ce7ddc31f4"
  },
  {
   "cell_type": "code",
   "execution_count": 33,
   "outputs": [
    {
     "name": "stdout",
     "output_type": "stream",
     "text": [
      "Model: \"yacht_model_87\"\n",
      "_________________________________________________________________\n",
      " Layer (type)                Output Shape              Param #   \n",
      "=================================================================\n",
      " dense_261 (Dense)           multiple                  224       \n",
      "                                                                 \n",
      " dense_262 (Dense)           multiple                  1056      \n",
      "                                                                 \n",
      " dense_263 (Dense)           multiple                  33        \n",
      "                                                                 \n",
      "=================================================================\n",
      "Total params: 1313 (5.13 KB)\n",
      "Trainable params: 1313 (5.13 KB)\n",
      "Non-trainable params: 0 (0.00 Byte)\n",
      "_________________________________________________________________\n"
     ]
    }
   ],
   "source": [
    "class YachtModel(tf.keras.Model):\n",
    "    def __init__(self):\n",
    "        super(YachtModel, self).__init__()\n",
    "        \n",
    "        self.dense1 = keras.layers.Dense(32,kernel_regularizer=regularizers.l2(0.001), activation='relu')\n",
    "        self.dense2 = keras.layers.Dense(32,kernel_regularizer=regularizers.l2(0.001), activation='relu')\n",
    "        self.output_layer = keras.layers.Dense(1, activation=None)\n",
    "        \n",
    "    def call(self, inputs):\n",
    "        \n",
    "        x = self.dense1(inputs)\n",
    "        x = self.dense2(x)\n",
    "        \n",
    "        return self.output_layer(x)\n",
    "    \n",
    "    \n",
    "model = YachtModel()\n",
    "model.compile(optimizer='adam', loss='mean_squared_error')\n",
    "model.build(input_shape=(None,x_train.shape[1]))\n",
    "model.summary()"
   ],
   "metadata": {
    "collapsed": false,
    "ExecuteTime": {
     "end_time": "2024-10-26T15:41:05.746867800Z",
     "start_time": "2024-10-26T15:41:05.704396700Z"
    }
   },
   "id": "a770f6b2f5df6551"
  },
  {
   "cell_type": "markdown",
   "source": [
    "# Entrainement "
   ],
   "metadata": {
    "collapsed": false
   },
   "id": "af5fdc82bd1d6b93"
  },
  {
   "cell_type": "code",
   "execution_count": 32,
   "outputs": [
    {
     "name": "stdout",
     "output_type": "stream",
     "text": [
      "entrainement avec batch de taille 32 et learning rate de 0.01\n",
      "Fold 1 validation loss: 0.20835819840431213\n",
      "entrainement avec batch de taille 32 et learning rate de 0.001\n",
      "Fold 1 validation loss: 0.1604050248861313\n",
      "entrainement avec batch de taille 32 et learning rate de 0.0001\n",
      "Fold 1 validation loss: 0.8481006026268005\n",
      "entrainement avec batch de taille 64 et learning rate de 0.01\n",
      "Fold 1 validation loss: 0.1713026762008667\n",
      "entrainement avec batch de taille 64 et learning rate de 0.001\n",
      "Fold 1 validation loss: 0.3474327027797699\n",
      "entrainement avec batch de taille 64 et learning rate de 0.0001\n",
      "Fold 1 validation loss: 0.652191698551178\n",
      "entrainement avec batch de taille 128 et learning rate de 0.01\n",
      "Fold 1 validation loss: 0.19173076748847961\n",
      "entrainement avec batch de taille 128 et learning rate de 0.001\n",
      "Fold 1 validation loss: 0.6689635515213013\n",
      "entrainement avec batch de taille 128 et learning rate de 0.0001\n",
      "Fold 1 validation loss: 1.074098825454712\n",
      "entrainement avec batch de taille 32 et learning rate de 0.01\n",
      "Fold 2 validation loss: 0.6745597720146179\n",
      "entrainement avec batch de taille 32 et learning rate de 0.001\n",
      "Fold 2 validation loss: 0.7827551960945129\n",
      "entrainement avec batch de taille 32 et learning rate de 0.0001\n",
      "Fold 2 validation loss: 0.7468493580818176\n",
      "entrainement avec batch de taille 64 et learning rate de 0.01\n",
      "Fold 2 validation loss: 0.367891401052475\n",
      "entrainement avec batch de taille 64 et learning rate de 0.001\n",
      "Fold 2 validation loss: 0.25666603446006775\n",
      "entrainement avec batch de taille 64 et learning rate de 0.0001\n",
      "Fold 2 validation loss: 1.005219578742981\n",
      "entrainement avec batch de taille 128 et learning rate de 0.01\n",
      "Fold 2 validation loss: 0.5323051810264587\n",
      "entrainement avec batch de taille 128 et learning rate de 0.001\n",
      "Fold 2 validation loss: 0.6763144731521606\n",
      "entrainement avec batch de taille 128 et learning rate de 0.0001\n",
      "Fold 2 validation loss: 0.7667454481124878\n",
      "entrainement avec batch de taille 32 et learning rate de 0.01\n",
      "Fold 3 validation loss: 0.6258623003959656\n",
      "entrainement avec batch de taille 32 et learning rate de 0.001\n",
      "Fold 3 validation loss: 0.867821455001831\n",
      "entrainement avec batch de taille 32 et learning rate de 0.0001\n",
      "Fold 3 validation loss: 0.8448816537857056\n",
      "entrainement avec batch de taille 64 et learning rate de 0.01\n",
      "Fold 3 validation loss: 0.489550918340683\n",
      "entrainement avec batch de taille 64 et learning rate de 0.001\n",
      "Fold 3 validation loss: 0.5177291035652161\n",
      "entrainement avec batch de taille 64 et learning rate de 0.0001\n",
      "Fold 3 validation loss: 1.490747094154358\n",
      "entrainement avec batch de taille 128 et learning rate de 0.01\n",
      "Fold 3 validation loss: 0.5102155208587646\n",
      "entrainement avec batch de taille 128 et learning rate de 0.001\n",
      "Fold 3 validation loss: 0.7706198692321777\n",
      "entrainement avec batch de taille 128 et learning rate de 0.0001\n",
      "Fold 3 validation loss: 1.5115693807601929\n",
      "entrainement avec batch de taille 32 et learning rate de 0.01\n",
      "Fold 4 validation loss: 0.4363063871860504\n",
      "entrainement avec batch de taille 32 et learning rate de 0.001\n",
      "Fold 4 validation loss: 0.3454318046569824\n",
      "entrainement avec batch de taille 32 et learning rate de 0.0001\n",
      "Fold 4 validation loss: 0.6939010620117188\n",
      "entrainement avec batch de taille 64 et learning rate de 0.01\n",
      "Fold 4 validation loss: 0.2333851307630539\n",
      "entrainement avec batch de taille 64 et learning rate de 0.001\n",
      "Fold 4 validation loss: 0.3891589045524597\n",
      "entrainement avec batch de taille 64 et learning rate de 0.0001\n",
      "Fold 4 validation loss: 0.630264937877655\n",
      "entrainement avec batch de taille 128 et learning rate de 0.01\n",
      "Fold 4 validation loss: 0.2888067960739136\n",
      "entrainement avec batch de taille 128 et learning rate de 0.001\n",
      "Fold 4 validation loss: 0.32133227586746216\n",
      "entrainement avec batch de taille 128 et learning rate de 0.0001\n",
      "Fold 4 validation loss: 1.5281299352645874\n",
      "entrainement avec batch de taille 32 et learning rate de 0.01\n",
      "Fold 5 validation loss: 0.2464856505393982\n",
      "entrainement avec batch de taille 32 et learning rate de 0.001\n",
      "Fold 5 validation loss: 0.4045470952987671\n",
      "entrainement avec batch de taille 32 et learning rate de 0.0001\n",
      "Fold 5 validation loss: 0.8544146418571472\n",
      "entrainement avec batch de taille 64 et learning rate de 0.01\n",
      "Fold 5 validation loss: 0.256073921918869\n",
      "entrainement avec batch de taille 64 et learning rate de 0.001\n",
      "Fold 5 validation loss: 0.34212902188301086\n",
      "entrainement avec batch de taille 64 et learning rate de 0.0001\n",
      "Fold 5 validation loss: 0.4632040858268738\n",
      "entrainement avec batch de taille 128 et learning rate de 0.01\n",
      "Fold 5 validation loss: 0.436203271150589\n",
      "entrainement avec batch de taille 128 et learning rate de 0.001\n",
      "Fold 5 validation loss: 0.4717520475387573\n",
      "entrainement avec batch de taille 128 et learning rate de 0.0001\n",
      "Fold 5 validation loss: 0.8110400438308716\n",
      "Moyenne des pertes de validation : 0.432234525680542\n"
     ]
    }
   ],
   "source": [
    "tensorboard_callback = tf.keras.callbacks.TensorBoard(log_dir=\"logs\")\n",
    "\n",
    "kf = KFold(n_splits=5, shuffle=True, random_state=42)\n",
    "all_scores = []\n",
    "best_weights = None\n",
    "best_val_loss = float(\"inf\")\n",
    "\n",
    "\n",
    "x_train = pd.DataFrame(x_train)\n",
    "y_train = pd.DataFrame(y_train)\n",
    "\n",
    "\n",
    "\n",
    "for fold, (train_index, val_index) in enumerate(kf.split(x_train)):\n",
    "    x_train_fold, x_val_fold = x_train.iloc[train_index], x_train.iloc[val_index]\n",
    "    y_train_fold, y_val_fold = y_train.iloc[train_index], y_train.iloc[val_index]\n",
    "\n",
    "    for batch in [32, 64, 128]:\n",
    "        for alpha in[0.01, 0.001, 0.0001]:\n",
    "            print(f\"entrainement avec batch de taille {batch} et learning rate de {alpha}\")\n",
    "            \n",
    "            model = YachtModel()\n",
    "            model.compile(optimizer=tf.keras.optimizers.Adam(learning_rate=alpha), loss = 'mean_squared_error')\n",
    "            checkpoint_cb = ModelCheckpoint(\"best_model.h5\", monitor=\"val_loss\", save_best_only=True, save_weights_only=True)\n",
    "            model.fit(x_train_fold, y_train_fold,\n",
    "                      batch_size = batch, \n",
    "                      epochs=10000, \n",
    "                      verbose=0, \n",
    "                      validation_data=(x_val_fold,y_val_fold),\n",
    "                      callbacks=[checkpoint_cb,tensorboard_callback])\n",
    "            \n",
    "            model.load_weights(\"best_model.h5\")\n",
    "            val_loss = model.evaluate(x_val_fold, y_val_fold, verbose=0)\n",
    "            all_scores.append(loss)\n",
    "            \n",
    "            print(f\"Fold {fold + 1} validation loss: {val_loss}\")\n",
    "            \n",
    "            if (val_loss\n",
    "                    \n",
    "                    \n",
    "                    \n",
    "                    < best_val_loss):\n",
    "                best_val_loss = val_loss\n",
    "                best_weights = model.get_weights()\n",
    "\n",
    "\n",
    "model.set_weights(best_weights)\n",
    "\n",
    "\n",
    "average_val_loss = np.mean(all_scores)\n",
    "print(f\"Moyenne des pertes de validation : {average_val_loss}\")"
   ],
   "metadata": {
    "collapsed": false,
    "ExecuteTime": {
     "end_time": "2024-10-26T15:41:05.700400Z",
     "start_time": "2024-10-26T11:53:54.549875Z"
    }
   },
   "id": "f03394acf2d4ab60"
  },
  {
   "cell_type": "code",
   "execution_count": 40,
   "outputs": [
    {
     "name": "stdout",
     "output_type": "stream",
     "text": [
      "2/2 [==============================] - 0s 2ms/step - loss: 0.3849\n",
      "Erreur quadratique moyenne sur les données de test : 0.38494014739990234\n"
     ]
    }
   ],
   "source": [
    "model.set_weights(best_weights)\n",
    "result = model.evaluate(x_test, y_test)\n",
    "print(f\"Erreur quadratique moyenne sur les données de test : {result}\")"
   ],
   "metadata": {
    "collapsed": false,
    "ExecuteTime": {
     "end_time": "2024-10-26T21:40:41.764297800Z",
     "start_time": "2024-10-26T21:40:41.704293600Z"
    }
   },
   "id": "ee4d4d838f0bfc29"
  }
 ],
 "metadata": {
  "kernelspec": {
   "display_name": "Python 3",
   "language": "python",
   "name": "python3"
  },
  "language_info": {
   "codemirror_mode": {
    "name": "ipython",
    "version": 2
   },
   "file_extension": ".py",
   "mimetype": "text/x-python",
   "name": "python",
   "nbconvert_exporter": "python",
   "pygments_lexer": "ipython2",
   "version": "2.7.6"
  }
 },
 "nbformat": 4,
 "nbformat_minor": 5
}
