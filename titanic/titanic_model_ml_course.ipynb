{
 "cells": [
  {
   "cell_type": "code",
   "id": "initial_id",
   "metadata": {
    "collapsed": true,
    "ExecuteTime": {
     "end_time": "2024-11-06T16:28:19.454555Z",
     "start_time": "2024-11-06T16:28:16.140335Z"
    }
   },
   "source": [
    "import pandas as pd\n",
    "import warnings\n",
    "import numpy as np\n",
    "import matplotlib.pyplot as plt\n",
    "import seaborn as sns\n",
    "import time\n",
    "\n",
    "from sklearn.feature_extraction.text import TfidfVectorizer\n",
    "from sklearn.model_selection import train_test_split\n",
    "from sklearn.tree import DecisionTreeClassifier\n",
    "from sklearn.metrics import accuracy_score, precision_score, recall_score, f1_score, confusion_matrix, roc_auc_score, \\\n",
    "    make_scorer, classification_report\n",
    "from sklearn.ensemble import RandomForestClassifier\n",
    "\n",
    "\n",
    "warnings.filterwarnings('ignore')"
   ],
   "outputs": [],
   "execution_count": 1
  },
  {
   "metadata": {
    "ExecuteTime": {
     "end_time": "2024-11-06T16:28:19.481338Z",
     "start_time": "2024-11-06T16:28:19.467385Z"
    }
   },
   "cell_type": "code",
   "source": "df = pd.read_csv('data/train_cleaned.csv')",
   "id": "974774feef6e080a",
   "outputs": [],
   "execution_count": 2
  },
  {
   "metadata": {
    "ExecuteTime": {
     "end_time": "2024-11-06T16:29:53.027579Z",
     "start_time": "2024-11-06T16:29:53.009996Z"
    }
   },
   "cell_type": "code",
   "source": [
    "vectorize = TfidfVectorizer(max_features=50)\n",
    "# vectorized = vectorize.fit_transform(df.Name).toarray()\n",
    "colonnes = ['Name_'+str(i) for i in range(vectorized.shape[1])]\n",
    "vectorized = pd.DataFrame(columns = colonnes, data = vectorized)\n",
    "vectorized.index = df.index\n",
    "# df.drop(columns = 'Name', inplace = True)\n",
    "df = pd.concat([df, vectorized], axis = 1)"
   ],
   "id": "ed78d3959e091f92",
   "outputs": [],
   "execution_count": 14
  },
  {
   "metadata": {
    "ExecuteTime": {
     "end_time": "2024-11-06T16:30:04.226139Z",
     "start_time": "2024-11-06T16:30:04.203249Z"
    }
   },
   "cell_type": "code",
   "source": "print(df.head())",
   "id": "d70197fc8d29e2e9",
   "outputs": [
    {
     "name": "stdout",
     "output_type": "stream",
     "text": [
      "   Unnamed: 0  PassengerId  Survived  Pclass  Sex   Age  SibSp  Parch  \\\n",
      "0           0            1         0       3    1  22.0      1      0   \n",
      "1           1            2         1       1    0  38.0      1      0   \n",
      "2           2            3         1       3    0  26.0      0      0   \n",
      "3           3            4         1       1    0  35.0      1      0   \n",
      "4           4            5         0       3    1  35.0      0      0   \n",
      "\n",
      "   NumericTicket  Cabin_B  ...  Name_40  Name_41  Name_42  Name_43  Name_44  \\\n",
      "0          21171      0.0  ...      0.0      0.0      0.0      0.0      0.0   \n",
      "1          17599      0.0  ...      0.0      0.0      0.0      0.0      0.0   \n",
      "2        3101282      0.0  ...      0.0      0.0      0.0      0.0      0.0   \n",
      "3         113803      0.0  ...      0.0      0.0      0.0      0.0      0.0   \n",
      "4         373450      0.0  ...      0.0      0.0      0.0      0.0      0.0   \n",
      "\n",
      "   Name_45  Name_46  Name_47  Name_48  Name_49  \n",
      "0      0.0      0.0      0.0  0.00000      0.0  \n",
      "1      0.0      0.0      0.0  0.00000      0.0  \n",
      "2      0.0      0.0      0.0  0.00000      0.0  \n",
      "3      0.0      0.0      0.0  0.00000      0.0  \n",
      "4      0.0      0.0      0.0  0.62847      0.0  \n",
      "\n",
      "[5 rows x 170 columns]\n"
     ]
    }
   ],
   "execution_count": 16
  },
  {
   "metadata": {
    "ExecuteTime": {
     "end_time": "2024-11-06T16:28:42.779651Z",
     "start_time": "2024-11-06T16:28:42.760527Z"
    }
   },
   "cell_type": "code",
   "source": "x_train, x_test, y_train, y_test = train_test_split(df.drop(columns=['Survived']), df.Survived, random_state=42)",
   "id": "c036f0275b605661",
   "outputs": [],
   "execution_count": 9
  },
  {
   "metadata": {
    "ExecuteTime": {
     "end_time": "2024-11-06T16:31:52.154170Z",
     "start_time": "2024-11-06T16:31:52.107853Z"
    }
   },
   "cell_type": "code",
   "source": [
    "model = DecisionTreeClassifier()\n",
    "model.fit(x_train, y_train)\n",
    "ypred = model.predict(x_test)\n",
    "\n",
    "model.score(x_test, y_test)"
   ],
   "id": "4fa65b367ce5deee",
   "outputs": [
    {
     "data": {
      "text/plain": [
       "0.5426008968609866"
      ]
     },
     "execution_count": 43,
     "metadata": {},
     "output_type": "execute_result"
    }
   ],
   "execution_count": 43
  }
 ],
 "metadata": {
  "kernelspec": {
   "display_name": "Python 3",
   "language": "python",
   "name": "python3"
  },
  "language_info": {
   "codemirror_mode": {
    "name": "ipython",
    "version": 2
   },
   "file_extension": ".py",
   "mimetype": "text/x-python",
   "name": "python",
   "nbconvert_exporter": "python",
   "pygments_lexer": "ipython2",
   "version": "2.7.6"
  }
 },
 "nbformat": 4,
 "nbformat_minor": 5
}
