{
 "cells": [
  {
   "metadata": {
    "collapsed": true,
    "ExecuteTime": {
     "end_time": "2024-11-06T16:14:47.854029Z",
     "start_time": "2024-11-06T16:14:45.237636Z"
    }
   },
   "cell_type": "code",
   "source": [
    "import pandas as pd\n",
    "import matplotlib.pyplot as plt\n",
    "from itertools import product\n",
    "import numpy as np\n",
    "\n",
    "import warnings\n",
    "from collections import Counter\n",
    "\n",
    "from sklearn.preprocessing import OneHotEncoder\n",
    "\n",
    "warnings.filterwarnings(\"ignore\")"
   ],
   "id": "initial_id",
   "outputs": [],
   "execution_count": 1
  },
  {
   "metadata": {
    "ExecuteTime": {
     "end_time": "2024-11-06T16:14:47.865163Z",
     "start_time": "2024-11-06T16:14:47.861266Z"
    }
   },
   "cell_type": "code",
   "source": [
    "def isNan(sum):\n",
    "    return sum!=sum"
   ],
   "id": "f3a9d5e669f7c0cb",
   "outputs": [],
   "execution_count": 2
  },
  {
   "metadata": {
    "ExecuteTime": {
     "end_time": "2024-11-06T16:14:48.177636Z",
     "start_time": "2024-11-06T16:14:48.133844Z"
    }
   },
   "cell_type": "code",
   "source": [
    "data = pd.read_csv('data/train.csv', sep=',')\n",
    "test = pd.read_csv('data/test.csv')\n",
    "\n",
    "print(data.head())\n",
    "print(len(data.columns))\n",
    "print(data.info())"
   ],
   "id": "1aedeb6244ad0d5",
   "outputs": [
    {
     "name": "stdout",
     "output_type": "stream",
     "text": [
      "   PassengerId  Survived  Pclass  \\\n",
      "0            1         0       3   \n",
      "1            2         1       1   \n",
      "2            3         1       3   \n",
      "3            4         1       1   \n",
      "4            5         0       3   \n",
      "\n",
      "                                                Name     Sex   Age  SibSp  \\\n",
      "0                            Braund, Mr. Owen Harris    male  22.0      1   \n",
      "1  Cumings, Mrs. John Bradley (Florence Briggs Th...  female  38.0      1   \n",
      "2                             Heikkinen, Miss. Laina  female  26.0      0   \n",
      "3       Futrelle, Mrs. Jacques Heath (Lily May Peel)  female  35.0      1   \n",
      "4                           Allen, Mr. William Henry    male  35.0      0   \n",
      "\n",
      "   Parch            Ticket     Fare Cabin Embarked  \n",
      "0      0         A/5 21171   7.2500   NaN        S  \n",
      "1      0          PC 17599  71.2833   C85        C  \n",
      "2      0  STON/O2. 3101282   7.9250   NaN        S  \n",
      "3      0            113803  53.1000  C123        S  \n",
      "4      0            373450   8.0500   NaN        S  \n",
      "12\n",
      "<class 'pandas.core.frame.DataFrame'>\n",
      "RangeIndex: 891 entries, 0 to 890\n",
      "Data columns (total 12 columns):\n",
      " #   Column       Non-Null Count  Dtype  \n",
      "---  ------       --------------  -----  \n",
      " 0   PassengerId  891 non-null    int64  \n",
      " 1   Survived     891 non-null    int64  \n",
      " 2   Pclass       891 non-null    int64  \n",
      " 3   Name         891 non-null    object \n",
      " 4   Sex          891 non-null    object \n",
      " 5   Age          714 non-null    float64\n",
      " 6   SibSp        891 non-null    int64  \n",
      " 7   Parch        891 non-null    int64  \n",
      " 8   Ticket       891 non-null    object \n",
      " 9   Fare         891 non-null    float64\n",
      " 10  Cabin        204 non-null    object \n",
      " 11  Embarked     889 non-null    object \n",
      "dtypes: float64(2), int64(5), object(5)\n",
      "memory usage: 83.7+ KB\n",
      "None\n"
     ]
    }
   ],
   "execution_count": 3
  },
  {
   "metadata": {},
   "cell_type": "markdown",
   "source": [
    "\n",
    "SEXE : Pour le sexe, on passe en variable binaire\n",
    "\n",
    "NAME : tfidf vectorizer de scikit learn\n",
    "\n",
    "TICKET : garder le caractère en -1\n",
    "\n",
    "AGE : moyenne par classe \n",
    "\n",
    "CABIN : valeur majoritaire des lettres de cabines par catégories de prix de ticket\n",
    "\n",
    "\n"
   ],
   "id": "6599f65e9341188e"
  },
  {
   "metadata": {
    "ExecuteTime": {
     "end_time": "2024-11-06T16:14:48.235936Z",
     "start_time": "2024-11-06T16:14:48.214350Z"
    }
   },
   "cell_type": "code",
   "source": [
    "y= data.Survived\n",
    "data.drop(columns = ['Survived'])\n",
    "print(data.info())\n",
    "df = pd.concat([data,test], axis = 0)\n",
    "print(df)\n",
    "df.drop(columns = [\"PassengerId\"])\n",
    "print(len(df))"
   ],
   "id": "685e49c320c43c56",
   "outputs": [
    {
     "name": "stdout",
     "output_type": "stream",
     "text": [
      "<class 'pandas.core.frame.DataFrame'>\n",
      "RangeIndex: 891 entries, 0 to 890\n",
      "Data columns (total 12 columns):\n",
      " #   Column       Non-Null Count  Dtype  \n",
      "---  ------       --------------  -----  \n",
      " 0   PassengerId  891 non-null    int64  \n",
      " 1   Survived     891 non-null    int64  \n",
      " 2   Pclass       891 non-null    int64  \n",
      " 3   Name         891 non-null    object \n",
      " 4   Sex          891 non-null    object \n",
      " 5   Age          714 non-null    float64\n",
      " 6   SibSp        891 non-null    int64  \n",
      " 7   Parch        891 non-null    int64  \n",
      " 8   Ticket       891 non-null    object \n",
      " 9   Fare         891 non-null    float64\n",
      " 10  Cabin        204 non-null    object \n",
      " 11  Embarked     889 non-null    object \n",
      "dtypes: float64(2), int64(5), object(5)\n",
      "memory usage: 83.7+ KB\n",
      "None\n",
      "     PassengerId  Survived  Pclass  \\\n",
      "0              1       0.0       3   \n",
      "1              2       1.0       1   \n",
      "2              3       1.0       3   \n",
      "3              4       1.0       1   \n",
      "4              5       0.0       3   \n",
      "..           ...       ...     ...   \n",
      "413         1305       NaN       3   \n",
      "414         1306       NaN       1   \n",
      "415         1307       NaN       3   \n",
      "416         1308       NaN       3   \n",
      "417         1309       NaN       3   \n",
      "\n",
      "                                                  Name     Sex   Age  SibSp  \\\n",
      "0                              Braund, Mr. Owen Harris    male  22.0      1   \n",
      "1    Cumings, Mrs. John Bradley (Florence Briggs Th...  female  38.0      1   \n",
      "2                               Heikkinen, Miss. Laina  female  26.0      0   \n",
      "3         Futrelle, Mrs. Jacques Heath (Lily May Peel)  female  35.0      1   \n",
      "4                             Allen, Mr. William Henry    male  35.0      0   \n",
      "..                                                 ...     ...   ...    ...   \n",
      "413                                 Spector, Mr. Woolf    male   NaN      0   \n",
      "414                       Oliva y Ocana, Dona. Fermina  female  39.0      0   \n",
      "415                       Saether, Mr. Simon Sivertsen    male  38.5      0   \n",
      "416                                Ware, Mr. Frederick    male   NaN      0   \n",
      "417                           Peter, Master. Michael J    male   NaN      1   \n",
      "\n",
      "     Parch              Ticket      Fare Cabin Embarked  \n",
      "0        0           A/5 21171    7.2500   NaN        S  \n",
      "1        0            PC 17599   71.2833   C85        C  \n",
      "2        0    STON/O2. 3101282    7.9250   NaN        S  \n",
      "3        0              113803   53.1000  C123        S  \n",
      "4        0              373450    8.0500   NaN        S  \n",
      "..     ...                 ...       ...   ...      ...  \n",
      "413      0           A.5. 3236    8.0500   NaN        S  \n",
      "414      0            PC 17758  108.9000  C105        C  \n",
      "415      0  SOTON/O.Q. 3101262    7.2500   NaN        S  \n",
      "416      0              359309    8.0500   NaN        S  \n",
      "417      1                2668   22.3583   NaN        C  \n",
      "\n",
      "[1309 rows x 12 columns]\n",
      "1309\n"
     ]
    }
   ],
   "execution_count": 4
  },
  {
   "metadata": {
    "ExecuteTime": {
     "end_time": "2024-11-06T16:14:48.280565Z",
     "start_time": "2024-11-06T16:14:48.263830Z"
    }
   },
   "cell_type": "code",
   "source": [
    "df.Sex = df.Sex.apply(lambda x: 1*(x=='male'))\n",
    "print(data.head())\n",
    "dico_age = {(s, p): int(df.Age[(df.Sex == s) & (df.Pclass == p)].mean()) \n",
    "            for s, p in product(df.Sex.unique(), df.Pclass.unique())}\n",
    "print(dico_age)"
   ],
   "id": "48cdb710717d6f6",
   "outputs": [
    {
     "name": "stdout",
     "output_type": "stream",
     "text": [
      "   PassengerId  Survived  Pclass  \\\n",
      "0            1         0       3   \n",
      "1            2         1       1   \n",
      "2            3         1       3   \n",
      "3            4         1       1   \n",
      "4            5         0       3   \n",
      "\n",
      "                                                Name     Sex   Age  SibSp  \\\n",
      "0                            Braund, Mr. Owen Harris    male  22.0      1   \n",
      "1  Cumings, Mrs. John Bradley (Florence Briggs Th...  female  38.0      1   \n",
      "2                             Heikkinen, Miss. Laina  female  26.0      0   \n",
      "3       Futrelle, Mrs. Jacques Heath (Lily May Peel)  female  35.0      1   \n",
      "4                           Allen, Mr. William Henry    male  35.0      0   \n",
      "\n",
      "   Parch            Ticket     Fare Cabin Embarked  \n",
      "0      0         A/5 21171   7.2500   NaN        S  \n",
      "1      0          PC 17599  71.2833   C85        C  \n",
      "2      0  STON/O2. 3101282   7.9250   NaN        S  \n",
      "3      0            113803  53.1000  C123        S  \n",
      "4      0            373450   8.0500   NaN        S  \n",
      "{(1, 3): 25, (1, 1): 41, (1, 2): 30, (0, 3): 22, (0, 1): 37, (0, 2): 27}\n"
     ]
    }
   ],
   "execution_count": 5
  },
  {
   "metadata": {
    "ExecuteTime": {
     "end_time": "2024-11-06T16:14:48.336470Z",
     "start_time": "2024-11-06T16:14:48.309073Z"
    }
   },
   "cell_type": "code",
   "source": [
    "df['Age'] = df.apply(lambda x: dico_age[(x['Sex'], x['Pclass'])] if pd.isnull(x['Age']) else x['Age'], axis=1)\n",
    "print(df)"
   ],
   "id": "bec4250b56464462",
   "outputs": [
    {
     "name": "stdout",
     "output_type": "stream",
     "text": [
      "     PassengerId  Survived  Pclass  \\\n",
      "0              1       0.0       3   \n",
      "1              2       1.0       1   \n",
      "2              3       1.0       3   \n",
      "3              4       1.0       1   \n",
      "4              5       0.0       3   \n",
      "..           ...       ...     ...   \n",
      "413         1305       NaN       3   \n",
      "414         1306       NaN       1   \n",
      "415         1307       NaN       3   \n",
      "416         1308       NaN       3   \n",
      "417         1309       NaN       3   \n",
      "\n",
      "                                                  Name  Sex   Age  SibSp  \\\n",
      "0                              Braund, Mr. Owen Harris    1  22.0      1   \n",
      "1    Cumings, Mrs. John Bradley (Florence Briggs Th...    0  38.0      1   \n",
      "2                               Heikkinen, Miss. Laina    0  26.0      0   \n",
      "3         Futrelle, Mrs. Jacques Heath (Lily May Peel)    0  35.0      1   \n",
      "4                             Allen, Mr. William Henry    1  35.0      0   \n",
      "..                                                 ...  ...   ...    ...   \n",
      "413                                 Spector, Mr. Woolf    1  25.0      0   \n",
      "414                       Oliva y Ocana, Dona. Fermina    0  39.0      0   \n",
      "415                       Saether, Mr. Simon Sivertsen    1  38.5      0   \n",
      "416                                Ware, Mr. Frederick    1  25.0      0   \n",
      "417                           Peter, Master. Michael J    1  25.0      1   \n",
      "\n",
      "     Parch              Ticket      Fare Cabin Embarked  \n",
      "0        0           A/5 21171    7.2500   NaN        S  \n",
      "1        0            PC 17599   71.2833   C85        C  \n",
      "2        0    STON/O2. 3101282    7.9250   NaN        S  \n",
      "3        0              113803   53.1000  C123        S  \n",
      "4        0              373450    8.0500   NaN        S  \n",
      "..     ...                 ...       ...   ...      ...  \n",
      "413      0           A.5. 3236    8.0500   NaN        S  \n",
      "414      0            PC 17758  108.9000  C105        C  \n",
      "415      0  SOTON/O.Q. 3101262    7.2500   NaN        S  \n",
      "416      0              359309    8.0500   NaN        S  \n",
      "417      1                2668   22.3583   NaN        C  \n",
      "\n",
      "[1309 rows x 12 columns]\n"
     ]
    }
   ],
   "execution_count": 6
  },
  {
   "metadata": {
    "ExecuteTime": {
     "end_time": "2024-11-06T16:14:48.453531Z",
     "start_time": "2024-11-06T16:14:48.437601Z"
    }
   },
   "cell_type": "code",
   "source": [
    "df = df[df['Ticket'] != 'LINE']\n",
    "df['NumericTicket'] = pd.to_numeric(df.Ticket.apply(lambda x: int(x.split()[-1])), errors='coerce')\n",
    "invalid_tickets = df[df['NumericTicket'].isnull()]['Ticket'].unique()\n",
    "df.drop(columns=['Ticket'], inplace=True)\n",
    "print(df.head())\n"
   ],
   "id": "b65125f2248f7e26",
   "outputs": [
    {
     "name": "stdout",
     "output_type": "stream",
     "text": [
      "   PassengerId  Survived  Pclass  \\\n",
      "0            1       0.0       3   \n",
      "1            2       1.0       1   \n",
      "2            3       1.0       3   \n",
      "3            4       1.0       1   \n",
      "4            5       0.0       3   \n",
      "\n",
      "                                                Name  Sex   Age  SibSp  Parch  \\\n",
      "0                            Braund, Mr. Owen Harris    1  22.0      1      0   \n",
      "1  Cumings, Mrs. John Bradley (Florence Briggs Th...    0  38.0      1      0   \n",
      "2                             Heikkinen, Miss. Laina    0  26.0      0      0   \n",
      "3       Futrelle, Mrs. Jacques Heath (Lily May Peel)    0  35.0      1      0   \n",
      "4                           Allen, Mr. William Henry    1  35.0      0      0   \n",
      "\n",
      "      Fare Cabin Embarked  NumericTicket  \n",
      "0   7.2500   NaN        S          21171  \n",
      "1  71.2833   C85        C          17599  \n",
      "2   7.9250   NaN        S        3101282  \n",
      "3  53.1000  C123        S         113803  \n",
      "4   8.0500   NaN        S         373450  \n"
     ]
    }
   ],
   "execution_count": 7
  },
  {
   "metadata": {
    "ExecuteTime": {
     "end_time": "2024-11-06T16:14:48.732604Z",
     "start_time": "2024-11-06T16:14:48.482439Z"
    }
   },
   "cell_type": "code",
   "source": [
    "plt.figure()\n",
    "df.Fare[df.Pclass ==1].hist(bins = 20)\n",
    "plt.show()\n",
    "df.drop(columns = ['Fare'], inplace=True)"
   ],
   "id": "e6ca1df58642856b",
   "outputs": [
    {
     "data": {
      "text/plain": [
       "<Figure size 640x480 with 1 Axes>"
      ],
      "image/png": "[encoded data removed]"
     },
     "metadata": {},
     "output_type": "display_data"
    }
   ],
   "execution_count": 8
  },
  {
   "metadata": {
    "ExecuteTime": {
     "end_time": "2024-11-06T16:14:48.768763Z",
     "start_time": "2024-11-06T16:14:48.762678Z"
    }
   },
   "cell_type": "code",
   "source": [
    "df.Embarked.fillna('X', inplace=True)\n",
    "print(df.Embarked.unique())"
   ],
   "id": "d635069bd8b88874",
   "outputs": [
    {
     "name": "stdout",
     "output_type": "stream",
     "text": [
      "['S' 'C' 'Q' 'X']\n"
     ]
    }
   ],
   "execution_count": 9
  },
  {
   "metadata": {
    "ExecuteTime": {
     "end_time": "2024-11-06T16:14:48.831496Z",
     "start_time": "2024-11-06T16:14:48.799182Z"
    }
   },
   "cell_type": "code",
   "source": [
    "print(df.Cabin.isna().sum())\n",
    "\n",
    "dico_class = {p:Counter([v[0] for v in df.Cabin[df.Pclass==p] \n",
    "                         if not isNan(v)]).most_common(1)[0][0] for p in df.Pclass.unique()}\n",
    "print(dico_class)\n",
    "df.Cabin =[v[0] if not isNan(v) else dico_class[df.Pclass.iloc[i]] for i,v in enumerate(df.Cabin.values)]\n",
    "print(df.head())"
   ],
   "id": "61b04135a7580240",
   "outputs": [
    {
     "name": "stdout",
     "output_type": "stream",
     "text": [
      "1010\n",
      "{3: 'F', 1: 'C', 2: 'F'}\n",
      "   PassengerId  Survived  Pclass  \\\n",
      "0            1       0.0       3   \n",
      "1            2       1.0       1   \n",
      "2            3       1.0       3   \n",
      "3            4       1.0       1   \n",
      "4            5       0.0       3   \n",
      "\n",
      "                                                Name  Sex   Age  SibSp  Parch  \\\n",
      "0                            Braund, Mr. Owen Harris    1  22.0      1      0   \n",
      "1  Cumings, Mrs. John Bradley (Florence Briggs Th...    0  38.0      1      0   \n",
      "2                             Heikkinen, Miss. Laina    0  26.0      0      0   \n",
      "3       Futrelle, Mrs. Jacques Heath (Lily May Peel)    0  35.0      1      0   \n",
      "4                           Allen, Mr. William Henry    1  35.0      0      0   \n",
      "\n",
      "  Cabin Embarked  NumericTicket  \n",
      "0     F        S          21171  \n",
      "1     C        C          17599  \n",
      "2     F        S        3101282  \n",
      "3     C        S         113803  \n",
      "4     F        S         373450  \n"
     ]
    }
   ],
   "execution_count": 10
  },
  {
   "metadata": {
    "ExecuteTime": {
     "end_time": "2024-11-06T16:14:48.872465Z",
     "start_time": "2024-11-06T16:14:48.857308Z"
    }
   },
   "cell_type": "code",
   "source": [
    "encoder = OneHotEncoder(drop='first', sparse_output=False)\n",
    "encoder.fit(np.reshape(df.Cabin.values ,(-1,1)))\n",
    "\n",
    "transfo = encoder.transform(np.reshape(df.Cabin.values ,(-1,1)))\n",
    "print(type(transfo))\n",
    "colonnes = ['Cabin_'+f[-1] for f in encoder.get_feature_names_out()]\n",
    "print(colonnes)\n",
    "df = df.reset_index(drop=True)\n",
    "df = pd.concat([df, pd.DataFrame(columns = colonnes, data = transfo)], axis = 1)\n",
    "df.drop(columns=['Cabin'], inplace = True)\n",
    "print(df.columns)"
   ],
   "id": "2c6dc978d717894",
   "outputs": [
    {
     "name": "stdout",
     "output_type": "stream",
     "text": [
      "<class 'numpy.ndarray'>\n",
      "['Cabin_B', 'Cabin_C', 'Cabin_D', 'Cabin_E', 'Cabin_F', 'Cabin_G', 'Cabin_T']\n",
      "Index(['PassengerId', 'Survived', 'Pclass', 'Name', 'Sex', 'Age', 'SibSp',\n",
      "       'Parch', 'Embarked', 'NumericTicket', 'Cabin_B', 'Cabin_C', 'Cabin_D',\n",
      "       'Cabin_E', 'Cabin_F', 'Cabin_G', 'Cabin_T'],\n",
      "      dtype='object')\n"
     ]
    }
   ],
   "execution_count": 11
  },
  {
   "metadata": {
    "ExecuteTime": {
     "end_time": "2024-11-06T16:14:48.920521Z",
     "start_time": "2024-11-06T16:14:48.909529Z"
    }
   },
   "cell_type": "code",
   "source": [
    "encoder_emb = OneHotEncoder(sparse_output=False)\n",
    "\n",
    "transfoma = encoder_emb.fit_transform(np.reshape(df.Embarked.values ,(-1,1)))\n",
    "colonnes_emb = ['Embarked_'+f[-1] for f in encoder_emb.get_feature_names_out()]\n",
    "print(colonnes_emb)\n",
    "df = df.reset_index(drop=True)\n",
    "df = pd.concat([df, pd.DataFrame(columns = colonnes_emb, data = transfoma)], axis = 1)\n",
    "df.drop(columns=['Embarked'], inplace = True)\n",
    "print(df.columns)"
   ],
   "id": "40ab7d4c0dd4ca39",
   "outputs": [
    {
     "name": "stdout",
     "output_type": "stream",
     "text": [
      "['Embarked_C', 'Embarked_Q', 'Embarked_S', 'Embarked_X']\n",
      "Index(['PassengerId', 'Survived', 'Pclass', 'Name', 'Sex', 'Age', 'SibSp',\n",
      "       'Parch', 'NumericTicket', 'Cabin_B', 'Cabin_C', 'Cabin_D', 'Cabin_E',\n",
      "       'Cabin_F', 'Cabin_G', 'Cabin_T', 'Embarked_C', 'Embarked_Q',\n",
      "       'Embarked_S', 'Embarked_X'],\n",
      "      dtype='object')\n"
     ]
    }
   ],
   "execution_count": 12
  },
  {
   "metadata": {
    "ExecuteTime": {
     "end_time": "2024-11-06T16:14:48.964993Z",
     "start_time": "2024-11-06T16:14:48.954799Z"
    }
   },
   "cell_type": "code",
   "source": [
    "print(df.info())"
   ],
   "id": "c6793e847eedc311",
   "outputs": [
    {
     "name": "stdout",
     "output_type": "stream",
     "text": [
      "<class 'pandas.core.frame.DataFrame'>\n",
      "RangeIndex: 1305 entries, 0 to 1304\n",
      "Data columns (total 20 columns):\n",
      " #   Column         Non-Null Count  Dtype  \n",
      "---  ------         --------------  -----  \n",
      " 0   PassengerId    1305 non-null   int64  \n",
      " 1   Survived       887 non-null    float64\n",
      " 2   Pclass         1305 non-null   int64  \n",
      " 3   Name           1305 non-null   object \n",
      " 4   Sex            1305 non-null   int64  \n",
      " 5   Age            1305 non-null   float64\n",
      " 6   SibSp          1305 non-null   int64  \n",
      " 7   Parch          1305 non-null   int64  \n",
      " 8   NumericTicket  1305 non-null   int64  \n",
      " 9   Cabin_B        1305 non-null   float64\n",
      " 10  Cabin_C        1305 non-null   float64\n",
      " 11  Cabin_D        1305 non-null   float64\n",
      " 12  Cabin_E        1305 non-null   float64\n",
      " 13  Cabin_F        1305 non-null   float64\n",
      " 14  Cabin_G        1305 non-null   float64\n",
      " 15  Cabin_T        1305 non-null   float64\n",
      " 16  Embarked_C     1305 non-null   float64\n",
      " 17  Embarked_Q     1305 non-null   float64\n",
      " 18  Embarked_S     1305 non-null   float64\n",
      " 19  Embarked_X     1305 non-null   float64\n",
      "dtypes: float64(13), int64(6), object(1)\n",
      "memory usage: 204.0+ KB\n",
      "None\n"
     ]
    }
   ],
   "execution_count": 13
  },
  {
   "metadata": {
    "ExecuteTime": {
     "end_time": "2024-11-06T16:14:49.004879Z",
     "start_time": "2024-11-06T16:14:48.999324Z"
    }
   },
   "cell_type": "code",
   "source": [
    "df1 = df.iloc[:891,:]\n",
    "df1[\"Survived\"] = y\n",
    "\n",
    "df2= df.iloc[891:,:]"
   ],
   "id": "d3700afbe1da9f43",
   "outputs": [],
   "execution_count": 14
  },
  {
   "metadata": {
    "ExecuteTime": {
     "end_time": "2024-11-06T16:14:49.088913Z",
     "start_time": "2024-11-06T16:14:49.064060Z"
    }
   },
   "cell_type": "code",
   "source": [
    "df1.to_csv('data/train_cleaned.csv')\n",
    "df2.to_csv('data/test_cleaned.csv')"
   ],
   "id": "ff9612284073e7cf",
   "outputs": [],
   "execution_count": 15
  },
  {
   "metadata": {
    "ExecuteTime": {
     "end_time": "2024-11-06T16:14:49.159877Z",
     "start_time": "2024-11-06T16:14:49.147808Z"
    }
   },
   "cell_type": "code",
   "source": [
    "print(df2.info())"
   ],
   "id": "4afe293ad5209ad9",
   "outputs": [
    {
     "name": "stdout",
     "output_type": "stream",
     "text": [
      "<class 'pandas.core.frame.DataFrame'>\n",
      "RangeIndex: 414 entries, 891 to 1304\n",
      "Data columns (total 20 columns):\n",
      " #   Column         Non-Null Count  Dtype  \n",
      "---  ------         --------------  -----  \n",
      " 0   PassengerId    414 non-null    int64  \n",
      " 1   Survived       0 non-null      float64\n",
      " 2   Pclass         414 non-null    int64  \n",
      " 3   Name           414 non-null    object \n",
      " 4   Sex            414 non-null    int64  \n",
      " 5   Age            414 non-null    float64\n",
      " 6   SibSp          414 non-null    int64  \n",
      " 7   Parch          414 non-null    int64  \n",
      " 8   NumericTicket  414 non-null    int64  \n",
      " 9   Cabin_B        414 non-null    float64\n",
      " 10  Cabin_C        414 non-null    float64\n",
      " 11  Cabin_D        414 non-null    float64\n",
      " 12  Cabin_E        414 non-null    float64\n",
      " 13  Cabin_F        414 non-null    float64\n",
      " 14  Cabin_G        414 non-null    float64\n",
      " 15  Cabin_T        414 non-null    float64\n",
      " 16  Embarked_C     414 non-null    float64\n",
      " 17  Embarked_Q     414 non-null    float64\n",
      " 18  Embarked_S     414 non-null    float64\n",
      " 19  Embarked_X     414 non-null    float64\n",
      "dtypes: float64(13), int64(6), object(1)\n",
      "memory usage: 64.8+ KB\n",
      "None\n"
     ]
    }
   ],
   "execution_count": 16
  }
 ],
 "metadata": {
  "kernelspec": {
   "display_name": "Python 3",
   "language": "python",
   "name": "python3"
  },
  "language_info": {
   "codemirror_mode": {
    "name": "ipython",
    "version": 2
   },
   "file_extension": ".py",
   "mimetype": "text/x-python",
   "name": "python",
   "nbconvert_exporter": "python",
   "pygments_lexer": "ipython2",
   "version": "2.7.6"
  }
 },
 "nbformat": 4,
 "nbformat_minor": 5
}
