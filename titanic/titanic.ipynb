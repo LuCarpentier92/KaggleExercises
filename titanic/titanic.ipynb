{
 "cells": [
  {
   "cell_type": "code",
   "execution_count": 42,
   "id": "initial_id",
   "metadata": {
    "collapsed": true,
    "ExecuteTime": {
     "end_time": "2024-10-27T14:03:46.369190Z",
     "start_time": "2024-10-27T14:03:45.933956500Z"
    }
   },
   "outputs": [
    {
     "name": "stdout",
     "output_type": "stream",
     "text": [
      "Path to dataset files: C:\\Users\\Lucas\\.cache\\kagglehub\\datasets\\yasserh\\titanic-dataset\\versions\\1\n"
     ]
    }
   ],
   "source": [
    "import tensorflow as tf\n",
    "from tensorflow import keras\n",
    "\n",
    "import numpy as np\n",
    "import matplotlib.pyplot as plt\n",
    "import pandas as pd\n",
    "import seaborn as sns\n",
    "#sns.heatmap(data.corr(), annot=True, cmap='coolwarm')\n",
    "import time\n",
    "\n",
    "from sklearn.preprocessing import LabelEncoder, StandardScaler\n",
    "from sklearn.model_selection import train_test_split, GridSearchCV\n",
    "from sklearn.linear_model import LogisticRegression\n",
    "from sklearn.metrics import accuracy_score, precision_score, recall_score, f1_score, confusion_matrix, roc_auc_score, make_scorer\n",
    "from sklearn.ensemble import RandomForestClassifier\n",
    "\n",
    "\n",
    "\n",
    "import kagglehub\n",
    "\n",
    "path = kagglehub.dataset_download(\"yasserh/titanic-dataset\")\n",
    "\n",
    "print(\"Path to dataset files:\", path)"
   ]
  },
  {
   "cell_type": "code",
   "execution_count": 2,
   "outputs": [
    {
     "name": "stdout",
     "output_type": "stream",
     "text": [
      "   PassengerId  Survived  Pclass  \\\n",
      "0            1         0       3   \n",
      "1            2         1       1   \n",
      "2            3         1       3   \n",
      "3            4         1       1   \n",
      "4            5         0       3   \n",
      "\n",
      "                                                Name     Sex   Age  SibSp  \\\n",
      "0                            Braund, Mr. Owen Harris    male  22.0      1   \n",
      "1  Cumings, Mrs. John Bradley (Florence Briggs Th...  female  38.0      1   \n",
      "2                             Heikkinen, Miss. Laina  female  26.0      0   \n",
      "3       Futrelle, Mrs. Jacques Heath (Lily May Peel)  female  35.0      1   \n",
      "4                           Allen, Mr. William Henry    male  35.0      0   \n",
      "\n",
      "   Parch            Ticket     Fare Cabin Embarked  \n",
      "0      0         A/5 21171   7.2500   NaN        S  \n",
      "1      0          PC 17599  71.2833   C85        C  \n",
      "2      0  STON/O2. 3101282   7.9250   NaN        S  \n",
      "3      0            113803  53.1000  C123        S  \n",
      "4      0            373450   8.0500   NaN        S  \n",
      "12\n"
     ]
    },
    {
     "data": {
      "text/plain": "<Axes: ylabel='count'>"
     },
     "execution_count": 2,
     "metadata": {},
     "output_type": "execute_result"
    },
    {
     "data": {
      "text/plain": "<Figure size 640x480 with 1 Axes>",
      "image/png": "[encoded data removed]"
     },
     "metadata": {},
     "output_type": "display_data"
    }
   ],
   "source": [
    "data = pd.read_csv('Titanic-Dataset.csv', sep=',')\n",
    "\n",
    "print(data.head())\n",
    "print(len(data.columns))\n",
    "\n",
    "\n",
    "data['Sex'].value_counts().plot(kind='pie')"
   ],
   "metadata": {
    "collapsed": false,
    "ExecuteTime": {
     "end_time": "2024-10-27T13:36:16.187266300Z",
     "start_time": "2024-10-27T13:36:16.106749400Z"
    }
   },
   "id": "89bf77a034d588ea"
  },
  {
   "cell_type": "markdown",
   "source": [
    "# Traitement des données : Valeurs manquantes"
   ],
   "metadata": {
    "collapsed": false
   },
   "id": "501ec9988a9f5369"
  },
  {
   "cell_type": "code",
   "execution_count": 3,
   "outputs": [
    {
     "name": "stdout",
     "output_type": "stream",
     "text": [
      "PassengerId      0\n",
      "Survived         0\n",
      "Pclass           0\n",
      "Name             0\n",
      "Sex              0\n",
      "Age            177\n",
      "SibSp            0\n",
      "Parch            0\n",
      "Ticket           0\n",
      "Fare             0\n",
      "Cabin          687\n",
      "Embarked         2\n",
      "dtype: int64\n",
      "PassengerId      0\n",
      "Survived         0\n",
      "Pclass           0\n",
      "Name             0\n",
      "Sex              0\n",
      "Age            177\n",
      "SibSp            0\n",
      "Parch            0\n",
      "Ticket           0\n",
      "Fare             0\n",
      "Cabin          687\n",
      "Embarked         2\n",
      "dtype: int64\n"
     ]
    }
   ],
   "source": [
    "missing = data.isnull().sum()\n",
    "\n",
    "print(missing) # il manque 177 dans age, 687 dans cabin et 2 dans embarked\n",
    "\n",
    "data['Age'].fillna(data['Age'].median(), inplace=True)\n",
    "data['Embarked'].fillna(data['Embarked'].mode()[0], inplace=True)  # on prend la premiere valeur la plus frequent\n",
    "data.drop(columns=['Cabin','Ticket'],errors='ignore', inplace=True)\n",
    "\n",
    "print(missing) # il manque 177 dans age, 687 dans cabin et 2 dans embarked"
   ],
   "metadata": {
    "collapsed": false,
    "ExecuteTime": {
     "end_time": "2024-10-27T13:36:16.201270800Z",
     "start_time": "2024-10-27T13:36:16.188268100Z"
    }
   },
   "id": "f447b3d6823d39cd"
  },
  {
   "cell_type": "markdown",
   "source": [
    "# Traitement des données : Encodage"
   ],
   "metadata": {
    "collapsed": false
   },
   "id": "f0c436199d95c290"
  },
  {
   "cell_type": "code",
   "execution_count": 4,
   "outputs": [
    {
     "data": {
      "text/plain": "     PassengerId  Survived  Pclass  \\\n0              1         0       3   \n1              2         1       1   \n2              3         1       3   \n3              4         1       1   \n4              5         0       3   \n..           ...       ...     ...   \n886          887         0       2   \n887          888         1       1   \n888          889         0       3   \n889          890         1       1   \n890          891         0       3   \n\n                                                  Name   Age  SibSp  Parch  \\\n0                              Braund, Mr. Owen Harris  22.0      1      0   \n1    Cumings, Mrs. John Bradley (Florence Briggs Th...  38.0      1      0   \n2                               Heikkinen, Miss. Laina  26.0      0      0   \n3         Futrelle, Mrs. Jacques Heath (Lily May Peel)  35.0      1      0   \n4                             Allen, Mr. William Henry  35.0      0      0   \n..                                                 ...   ...    ...    ...   \n886                              Montvila, Rev. Juozas  27.0      0      0   \n887                       Graham, Miss. Margaret Edith  19.0      0      0   \n888           Johnston, Miss. Catherine Helen \"Carrie\"  28.0      1      2   \n889                              Behr, Mr. Karl Howell  26.0      0      0   \n890                                Dooley, Mr. Patrick  32.0      0      0   \n\n        Fare  Sex_male  Embarked_Q  Embarked_S  \n0     7.2500      True       False        True  \n1    71.2833     False       False       False  \n2     7.9250     False       False        True  \n3    53.1000     False       False        True  \n4     8.0500      True       False        True  \n..       ...       ...         ...         ...  \n886  13.0000      True       False        True  \n887  30.0000     False       False        True  \n888  23.4500     False       False        True  \n889  30.0000      True       False       False  \n890   7.7500      True        True       False  \n\n[891 rows x 11 columns]",
      "text/html": "<div>\n<style scoped>\n    .dataframe tbody tr th:only-of-type {\n        vertical-align: middle;\n    }\n\n    .dataframe tbody tr th {\n        vertical-align: top;\n    }\n\n    .dataframe thead th {\n        text-align: right;\n    }\n</style>\n<table border=\"1\" class=\"dataframe\">\n  <thead>\n    <tr style=\"text-align: right;\">\n      <th></th>\n      <th>PassengerId</th>\n      <th>Survived</th>\n      <th>Pclass</th>\n      <th>Name</th>\n      <th>Age</th>\n      <th>SibSp</th>\n      <th>Parch</th>\n      <th>Fare</th>\n      <th>Sex_male</th>\n      <th>Embarked_Q</th>\n      <th>Embarked_S</th>\n    </tr>\n  </thead>\n  <tbody>\n    <tr>\n      <th>0</th>\n      <td>1</td>\n      <td>0</td>\n      <td>3</td>\n      <td>Braund, Mr. Owen Harris</td>\n      <td>22.0</td>\n      <td>1</td>\n      <td>0</td>\n      <td>7.2500</td>\n      <td>True</td>\n      <td>False</td>\n      <td>True</td>\n    </tr>\n    <tr>\n      <th>1</th>\n      <td>2</td>\n      <td>1</td>\n      <td>1</td>\n      <td>Cumings, Mrs. John Bradley (Florence Briggs Th...</td>\n      <td>38.0</td>\n      <td>1</td>\n      <td>0</td>\n      <td>71.2833</td>\n      <td>False</td>\n      <td>False</td>\n      <td>False</td>\n    </tr>\n    <tr>\n      <th>2</th>\n      <td>3</td>\n      <td>1</td>\n      <td>3</td>\n      <td>Heikkinen, Miss. Laina</td>\n      <td>26.0</td>\n      <td>0</td>\n      <td>0</td>\n      <td>7.9250</td>\n      <td>False</td>\n      <td>False</td>\n      <td>True</td>\n    </tr>\n    <tr>\n      <th>3</th>\n      <td>4</td>\n      <td>1</td>\n      <td>1</td>\n      <td>Futrelle, Mrs. Jacques Heath (Lily May Peel)</td>\n      <td>35.0</td>\n      <td>1</td>\n      <td>0</td>\n      <td>53.1000</td>\n      <td>False</td>\n      <td>False</td>\n      <td>True</td>\n    </tr>\n    <tr>\n      <th>4</th>\n      <td>5</td>\n      <td>0</td>\n      <td>3</td>\n      <td>Allen, Mr. William Henry</td>\n      <td>35.0</td>\n      <td>0</td>\n      <td>0</td>\n      <td>8.0500</td>\n      <td>True</td>\n      <td>False</td>\n      <td>True</td>\n    </tr>\n    <tr>\n      <th>...</th>\n      <td>...</td>\n      <td>...</td>\n      <td>...</td>\n      <td>...</td>\n      <td>...</td>\n      <td>...</td>\n      <td>...</td>\n      <td>...</td>\n      <td>...</td>\n      <td>...</td>\n      <td>...</td>\n    </tr>\n    <tr>\n      <th>886</th>\n      <td>887</td>\n      <td>0</td>\n      <td>2</td>\n      <td>Montvila, Rev. Juozas</td>\n      <td>27.0</td>\n      <td>0</td>\n      <td>0</td>\n      <td>13.0000</td>\n      <td>True</td>\n      <td>False</td>\n      <td>True</td>\n    </tr>\n    <tr>\n      <th>887</th>\n      <td>888</td>\n      <td>1</td>\n      <td>1</td>\n      <td>Graham, Miss. Margaret Edith</td>\n      <td>19.0</td>\n      <td>0</td>\n      <td>0</td>\n      <td>30.0000</td>\n      <td>False</td>\n      <td>False</td>\n      <td>True</td>\n    </tr>\n    <tr>\n      <th>888</th>\n      <td>889</td>\n      <td>0</td>\n      <td>3</td>\n      <td>Johnston, Miss. Catherine Helen \"Carrie\"</td>\n      <td>28.0</td>\n      <td>1</td>\n      <td>2</td>\n      <td>23.4500</td>\n      <td>False</td>\n      <td>False</td>\n      <td>True</td>\n    </tr>\n    <tr>\n      <th>889</th>\n      <td>890</td>\n      <td>1</td>\n      <td>1</td>\n      <td>Behr, Mr. Karl Howell</td>\n      <td>26.0</td>\n      <td>0</td>\n      <td>0</td>\n      <td>30.0000</td>\n      <td>True</td>\n      <td>False</td>\n      <td>False</td>\n    </tr>\n    <tr>\n      <th>890</th>\n      <td>891</td>\n      <td>0</td>\n      <td>3</td>\n      <td>Dooley, Mr. Patrick</td>\n      <td>32.0</td>\n      <td>0</td>\n      <td>0</td>\n      <td>7.7500</td>\n      <td>True</td>\n      <td>True</td>\n      <td>False</td>\n    </tr>\n  </tbody>\n</table>\n<p>891 rows × 11 columns</p>\n</div>"
     },
     "execution_count": 4,
     "metadata": {},
     "output_type": "execute_result"
    }
   ],
   "source": [
    "pd.get_dummies(data, columns=['Sex', 'Embarked'], drop_first=True)"
   ],
   "metadata": {
    "collapsed": false,
    "ExecuteTime": {
     "end_time": "2024-10-27T13:36:16.246789Z",
     "start_time": "2024-10-27T13:36:16.203267100Z"
    }
   },
   "id": "ec0f09e1bffd12f9"
  },
  {
   "cell_type": "code",
   "execution_count": 5,
   "outputs": [
    {
     "name": "stdout",
     "output_type": "stream",
     "text": [
      "     PassengerId  Survived  Pclass  \\\n",
      "0              1         0       3   \n",
      "1              2         1       1   \n",
      "2              3         1       3   \n",
      "3              4         1       1   \n",
      "4              5         0       3   \n",
      "..           ...       ...     ...   \n",
      "886          887         0       2   \n",
      "887          888         1       1   \n",
      "888          889         0       3   \n",
      "889          890         1       1   \n",
      "890          891         0       3   \n",
      "\n",
      "                                                  Name     Sex   Age  SibSp  \\\n",
      "0                              Braund, Mr. Owen Harris    male  22.0      1   \n",
      "1    Cumings, Mrs. John Bradley (Florence Briggs Th...  female  38.0      1   \n",
      "2                               Heikkinen, Miss. Laina  female  26.0      0   \n",
      "3         Futrelle, Mrs. Jacques Heath (Lily May Peel)  female  35.0      1   \n",
      "4                             Allen, Mr. William Henry    male  35.0      0   \n",
      "..                                                 ...     ...   ...    ...   \n",
      "886                              Montvila, Rev. Juozas    male  27.0      0   \n",
      "887                       Graham, Miss. Margaret Edith  female  19.0      0   \n",
      "888           Johnston, Miss. Catherine Helen \"Carrie\"  female  28.0      1   \n",
      "889                              Behr, Mr. Karl Howell    male  26.0      0   \n",
      "890                                Dooley, Mr. Patrick    male  32.0      0   \n",
      "\n",
      "     Parch     Fare Embarked Title  \n",
      "0        0   7.2500        S    Mr  \n",
      "1        0  71.2833        C   Mrs  \n",
      "2        0   7.9250        S  Miss  \n",
      "3        0  53.1000        S   Mrs  \n",
      "4        0   8.0500        S    Mr  \n",
      "..     ...      ...      ...   ...  \n",
      "886      0  13.0000        S   Rev  \n",
      "887      0  30.0000        S  Miss  \n",
      "888      2  23.4500        S  Miss  \n",
      "889      0  30.0000        C    Mr  \n",
      "890      0   7.7500        Q    Mr  \n",
      "\n",
      "[891 rows x 11 columns]\n",
      "Title\n",
      "Mr          517\n",
      "Miss        182\n",
      "Mrs         125\n",
      "Master       40\n",
      "Dr            7\n",
      "Rev           6\n",
      "Mlle          2\n",
      "Major         2\n",
      "Col           2\n",
      "Countess      1\n",
      "Capt          1\n",
      "Ms            1\n",
      "Sir           1\n",
      "Lady          1\n",
      "Mme           1\n",
      "Don           1\n",
      "Jonkheer      1\n",
      "Name: count, dtype: int64\n",
      "Index(['PassengerId', 'Survived', 'Pclass', 'Name', 'Sex', 'Age', 'SibSp',\n",
      "       'Parch', 'Fare', 'Embarked', 'Title'],\n",
      "      dtype='object')\n",
      "Title\n",
      "Mr        517\n",
      "Miss      182\n",
      "Mrs       125\n",
      "Master     40\n",
      "Rare       27\n",
      "Name: count, dtype: int64\n",
      "   PassengerId  Survived  Pclass  \\\n",
      "0            1         0       3   \n",
      "1            2         1       1   \n",
      "2            3         1       3   \n",
      "3            4         1       1   \n",
      "4            5         0       3   \n",
      "\n",
      "                                                Name     Sex   Age  SibSp  \\\n",
      "0                            Braund, Mr. Owen Harris    male  22.0      1   \n",
      "1  Cumings, Mrs. John Bradley (Florence Briggs Th...  female  38.0      1   \n",
      "2                             Heikkinen, Miss. Laina  female  26.0      0   \n",
      "3       Futrelle, Mrs. Jacques Heath (Lily May Peel)  female  35.0      1   \n",
      "4                           Allen, Mr. William Henry    male  35.0      0   \n",
      "\n",
      "   Parch     Fare Embarked  Title  \n",
      "0      0   7.2500        S      2  \n",
      "1      0  71.2833        C      3  \n",
      "2      0   7.9250        S      1  \n",
      "3      0  53.1000        S      3  \n",
      "4      0   8.0500        S      2  \n"
     ]
    }
   ],
   "source": [
    "data['Title'] = data['Name'].str.extract(' ([A-Za-z]+)\\.', expand=False)\n",
    "print(data)\n",
    "print(data['Title'].value_counts())\n",
    "\n",
    "\n",
    "rare_titles = ['Dr', 'Rev', 'Mlle', 'Major', 'Col', 'Countess', 'Capt', 'Ms', 'Sir', 'Lady', 'Mme', 'Don', 'Jonkheer']\n",
    "data['Title'] = data['Title'].apply(lambda x: x if x in ['Mr', 'Mrs', 'Miss', 'Master'] else 'Rare')\n",
    "# data = data.loc[:, ~data.columns.str.startswith('Title_')]\n",
    "\n",
    "print(data.columns)\n",
    "print(data['Title'].value_counts())\n",
    "\n",
    "label_encoder = LabelEncoder()\n",
    "\n",
    "data['Title'] = label_encoder.fit_transform(data['Title'])\n",
    "\n",
    "print(data.head())"
   ],
   "metadata": {
    "collapsed": false,
    "ExecuteTime": {
     "end_time": "2024-10-27T13:36:16.255788800Z",
     "start_time": "2024-10-27T13:36:16.235791600Z"
    }
   },
   "id": "2465951a6dbe06b9"
  },
  {
   "cell_type": "code",
   "execution_count": 6,
   "outputs": [
    {
     "name": "stdout",
     "output_type": "stream",
     "text": [
      "The percentage of women that survived is 0.7420382165605095\n"
     ]
    }
   ],
   "source": [
    "women = data.loc[data.Sex == 'female'][\"Survived\"]\n",
    "\n",
    "rate_women = sum(women)/len(women)\n",
    "                            \n",
    "print(f\"The percentage of women that survived is {rate_women}\")"
   ],
   "metadata": {
    "collapsed": false,
    "ExecuteTime": {
     "end_time": "2024-10-27T13:36:16.299789600Z",
     "start_time": "2024-10-27T13:36:16.249791200Z"
    }
   },
   "id": "c6ac1f1a1caf8234"
  },
  {
   "cell_type": "code",
   "execution_count": 7,
   "outputs": [
    {
     "name": "stdout",
     "output_type": "stream",
     "text": [
      "The percentage of men that survived is 0.18890814558058924\n"
     ]
    }
   ],
   "source": [
    "men = data.loc[data.Sex == 'male'][\"Survived\"]\n",
    "\n",
    "rate_men = sum(men) / len(men)\n",
    "\n",
    "print(f\"The percentage of men that survived is {rate_men}\")"
   ],
   "metadata": {
    "collapsed": false,
    "ExecuteTime": {
     "end_time": "2024-10-27T13:36:16.300789Z",
     "start_time": "2024-10-27T13:36:16.264788700Z"
    }
   },
   "id": "6eea74f6d6896139"
  },
  {
   "cell_type": "markdown",
   "source": [
    "# Création du modèle "
   ],
   "metadata": {
    "collapsed": false
   },
   "id": "b5c2cb9c8d2ff99"
  },
  {
   "cell_type": "code",
   "execution_count": 8,
   "outputs": [
    {
     "name": "stdout",
     "output_type": "stream",
     "text": [
      "     PassengerId  Survived  Pclass  \\\n",
      "0              1         0       3   \n",
      "1              2         1       1   \n",
      "2              3         1       3   \n",
      "3              4         1       1   \n",
      "4              5         0       3   \n",
      "..           ...       ...     ...   \n",
      "886          887         0       2   \n",
      "887          888         1       1   \n",
      "888          889         0       3   \n",
      "889          890         1       1   \n",
      "890          891         0       3   \n",
      "\n",
      "                                                  Name     Sex   Age  SibSp  \\\n",
      "0                              Braund, Mr. Owen Harris    male  22.0      1   \n",
      "1    Cumings, Mrs. John Bradley (Florence Briggs Th...  female  38.0      1   \n",
      "2                               Heikkinen, Miss. Laina  female  26.0      0   \n",
      "3         Futrelle, Mrs. Jacques Heath (Lily May Peel)  female  35.0      1   \n",
      "4                             Allen, Mr. William Henry    male  35.0      0   \n",
      "..                                                 ...     ...   ...    ...   \n",
      "886                              Montvila, Rev. Juozas    male  27.0      0   \n",
      "887                       Graham, Miss. Margaret Edith  female  19.0      0   \n",
      "888           Johnston, Miss. Catherine Helen \"Carrie\"  female  28.0      1   \n",
      "889                              Behr, Mr. Karl Howell    male  26.0      0   \n",
      "890                                Dooley, Mr. Patrick    male  32.0      0   \n",
      "\n",
      "     Parch     Fare Embarked  Title  \n",
      "0        0   7.2500        S      2  \n",
      "1        0  71.2833        C      3  \n",
      "2        0   7.9250        S      1  \n",
      "3        0  53.1000        S      3  \n",
      "4        0   8.0500        S      2  \n",
      "..     ...      ...      ...    ...  \n",
      "886      0  13.0000        S      4  \n",
      "887      0  30.0000        S      1  \n",
      "888      2  23.4500        S      1  \n",
      "889      0  30.0000        C      2  \n",
      "890      0   7.7500        Q      2  \n",
      "\n",
      "[891 rows x 11 columns]\n",
      "Sex: {0: 'female', 1: 'male'}\n",
      "Embarked: {0: 'C', 1: 'Q', 2: 'S'}\n",
      "     Pclass  Sex   Age  SibSp  Parch     Fare  Embarked  Title\n",
      "0         3    1  22.0      1      0   7.2500         2      2\n",
      "1         1    0  38.0      1      0  71.2833         0      3\n",
      "2         3    0  26.0      0      0   7.9250         2      1\n",
      "3         1    0  35.0      1      0  53.1000         2      3\n",
      "4         3    1  35.0      0      0   8.0500         2      2\n",
      "..      ...  ...   ...    ...    ...      ...       ...    ...\n",
      "886       2    1  27.0      0      0  13.0000         2      4\n",
      "887       1    0  19.0      0      0  30.0000         2      1\n",
      "888       3    0  28.0      1      2  23.4500         2      1\n",
      "889       1    1  26.0      0      0  30.0000         0      2\n",
      "890       3    1  32.0      0      0   7.7500         1      2\n",
      "\n",
      "[891 rows x 8 columns]\n"
     ]
    }
   ],
   "source": [
    "print(data)\n",
    "data['Sex'] = label_encoder.fit_transform(data['Sex'])\n",
    "print(\"Sex:\", dict(enumerate(label_encoder.classes_)))\n",
    "data['Embarked'] = label_encoder.fit_transform(data['Embarked'])\n",
    "print(\"Embarked:\", dict(enumerate(label_encoder.classes_)))\n"
   ],
   "metadata": {
    "collapsed": false,
    "ExecuteTime": {
     "end_time": "2024-10-27T13:36:16.345306100Z",
     "start_time": "2024-10-27T13:36:16.279791300Z"
    }
   },
   "id": "2037b696a507310c"
  },
  {
   "cell_type": "code",
   "execution_count": 14,
   "outputs": [
    {
     "name": "stdout",
     "output_type": "stream",
     "text": [
      "     PassengerId  Survived  Pclass  \\\n",
      "0              1         0       3   \n",
      "1              2         1       1   \n",
      "2              3         1       3   \n",
      "3              4         1       1   \n",
      "4              5         0       3   \n",
      "..           ...       ...     ...   \n",
      "886          887         0       2   \n",
      "887          888         1       1   \n",
      "888          889         0       3   \n",
      "889          890         1       1   \n",
      "890          891         0       3   \n",
      "\n",
      "                                                  Name  Sex       Age  SibSp  \\\n",
      "0                              Braund, Mr. Owen Harris    1 -0.565736      1   \n",
      "1    Cumings, Mrs. John Bradley (Florence Briggs Th...    0  0.663861      1   \n",
      "2                               Heikkinen, Miss. Laina    0 -0.258337      0   \n",
      "3         Futrelle, Mrs. Jacques Heath (Lily May Peel)    0  0.433312      1   \n",
      "4                             Allen, Mr. William Henry    1  0.433312      0   \n",
      "..                                                 ...  ...       ...    ...   \n",
      "886                              Montvila, Rev. Juozas    1 -0.181487      0   \n",
      "887                       Graham, Miss. Margaret Edith    0 -0.796286      0   \n",
      "888           Johnston, Miss. Catherine Helen \"Carrie\"    0 -0.104637      1   \n",
      "889                              Behr, Mr. Karl Howell    1 -0.258337      0   \n",
      "890                                Dooley, Mr. Patrick    1  0.202762      0   \n",
      "\n",
      "     Parch      Fare  Embarked  Title  \n",
      "0        0 -0.502445         2      2  \n",
      "1        0  0.786845         0      3  \n",
      "2        0 -0.488854         2      1  \n",
      "3        0  0.420730         2      3  \n",
      "4        0 -0.486337         2      2  \n",
      "..     ...       ...       ...    ...  \n",
      "886      0 -0.386671         2      4  \n",
      "887      0 -0.044381         2      1  \n",
      "888      2 -0.176263         2      1  \n",
      "889      0 -0.044381         0      2  \n",
      "890      0 -0.492378         1      2  \n",
      "\n",
      "[891 rows x 11 columns]\n",
      "0      0\n",
      "1      1\n",
      "2      1\n",
      "3      1\n",
      "4      0\n",
      "      ..\n",
      "886    0\n",
      "887    1\n",
      "888    0\n",
      "889    1\n",
      "890    0\n",
      "Name: Survived, Length: 891, dtype: int64\n"
     ]
    },
    {
     "data": {
      "text/plain": "LogisticRegression(max_iter=2000)",
      "text/html": "<style>#sk-container-id-2 {color: black;}#sk-container-id-2 pre{padding: 0;}#sk-container-id-2 div.sk-toggleable {background-color: white;}#sk-container-id-2 label.sk-toggleable__label {cursor: pointer;display: block;width: 100%;margin-bottom: 0;padding: 0.3em;box-sizing: border-box;text-align: center;}#sk-container-id-2 label.sk-toggleable__label-arrow:before {content: \"▸\";float: left;margin-right: 0.25em;color: #696969;}#sk-container-id-2 label.sk-toggleable__label-arrow:hover:before {color: black;}#sk-container-id-2 div.sk-estimator:hover label.sk-toggleable__label-arrow:before {color: black;}#sk-container-id-2 div.sk-toggleable__content {max-height: 0;max-width: 0;overflow: hidden;text-align: left;background-color: #f0f8ff;}#sk-container-id-2 div.sk-toggleable__content pre {margin: 0.2em;color: black;border-radius: 0.25em;background-color: #f0f8ff;}#sk-container-id-2 input.sk-toggleable__control:checked~div.sk-toggleable__content {max-height: 200px;max-width: 100%;overflow: auto;}#sk-container-id-2 input.sk-toggleable__control:checked~label.sk-toggleable__label-arrow:before {content: \"▾\";}#sk-container-id-2 div.sk-estimator input.sk-toggleable__control:checked~label.sk-toggleable__label {background-color: #d4ebff;}#sk-container-id-2 div.sk-label input.sk-toggleable__control:checked~label.sk-toggleable__label {background-color: #d4ebff;}#sk-container-id-2 input.sk-hidden--visually {border: 0;clip: rect(1px 1px 1px 1px);clip: rect(1px, 1px, 1px, 1px);height: 1px;margin: -1px;overflow: hidden;padding: 0;position: absolute;width: 1px;}#sk-container-id-2 div.sk-estimator {font-family: monospace;background-color: #f0f8ff;border: 1px dotted black;border-radius: 0.25em;box-sizing: border-box;margin-bottom: 0.5em;}#sk-container-id-2 div.sk-estimator:hover {background-color: #d4ebff;}#sk-container-id-2 div.sk-parallel-item::after {content: \"\";width: 100%;border-bottom: 1px solid gray;flex-grow: 1;}#sk-container-id-2 div.sk-label:hover label.sk-toggleable__label {background-color: #d4ebff;}#sk-container-id-2 div.sk-serial::before {content: \"\";position: absolute;border-left: 1px solid gray;box-sizing: border-box;top: 0;bottom: 0;left: 50%;z-index: 0;}#sk-container-id-2 div.sk-serial {display: flex;flex-direction: column;align-items: center;background-color: white;padding-right: 0.2em;padding-left: 0.2em;position: relative;}#sk-container-id-2 div.sk-item {position: relative;z-index: 1;}#sk-container-id-2 div.sk-parallel {display: flex;align-items: stretch;justify-content: center;background-color: white;position: relative;}#sk-container-id-2 div.sk-item::before, #sk-container-id-2 div.sk-parallel-item::before {content: \"\";position: absolute;border-left: 1px solid gray;box-sizing: border-box;top: 0;bottom: 0;left: 50%;z-index: -1;}#sk-container-id-2 div.sk-parallel-item {display: flex;flex-direction: column;z-index: 1;position: relative;background-color: white;}#sk-container-id-2 div.sk-parallel-item:first-child::after {align-self: flex-end;width: 50%;}#sk-container-id-2 div.sk-parallel-item:last-child::after {align-self: flex-start;width: 50%;}#sk-container-id-2 div.sk-parallel-item:only-child::after {width: 0;}#sk-container-id-2 div.sk-dashed-wrapped {border: 1px dashed gray;margin: 0 0.4em 0.5em 0.4em;box-sizing: border-box;padding-bottom: 0.4em;background-color: white;}#sk-container-id-2 div.sk-label label {font-family: monospace;font-weight: bold;display: inline-block;line-height: 1.2em;}#sk-container-id-2 div.sk-label-container {text-align: center;}#sk-container-id-2 div.sk-container {/* jupyter's `normalize.less` sets `[hidden] { display: none; }` but bootstrap.min.css set `[hidden] { display: none !important; }` so we also need the `!important` here to be able to override the default hidden behavior on the sphinx rendered scikit-learn.org. See: https://github.com/scikit-learn/scikit-learn/issues/21755 */display: inline-block !important;position: relative;}#sk-container-id-2 div.sk-text-repr-fallback {display: none;}</style><div id=\"sk-container-id-2\" class=\"sk-top-container\"><div class=\"sk-text-repr-fallback\"><pre>LogisticRegression(max_iter=2000)</pre><b>In a Jupyter environment, please rerun this cell to show the HTML representation or trust the notebook. <br />On GitHub, the HTML representation is unable to render, please try loading this page with nbviewer.org.</b></div><div class=\"sk-container\" hidden><div class=\"sk-item\"><div class=\"sk-estimator sk-toggleable\"><input class=\"sk-toggleable__control sk-hidden--visually\" id=\"sk-estimator-id-2\" type=\"checkbox\" checked><label for=\"sk-estimator-id-2\" class=\"sk-toggleable__label sk-toggleable__label-arrow\">LogisticRegression</label><div class=\"sk-toggleable__content\"><pre>LogisticRegression(max_iter=2000)</pre></div></div></div></div></div>"
     },
     "execution_count": 14,
     "metadata": {},
     "output_type": "execute_result"
    }
   ],
   "source": [
    "scaler = StandardScaler()\n",
    "\n",
    "data[['Age', 'Fare']] = scaler.fit_transform(data[['Age','Fare']])\n",
    "\n",
    "print(data)\n",
    "X = data.drop(['PassengerId', 'Survived', 'Name'], axis=1)\n",
    "y = data['Survived']\n",
    "\n",
    "print(y)\n",
    "\n",
    "x_train, x_test, y_train, y_test = train_test_split(X, y, test_size=0.2, random_state=int(time.time()))\n",
    "\n",
    "\n",
    "model = LogisticRegression(max_iter=2000)\n",
    "model.fit(x_train,y_train)"
   ],
   "metadata": {
    "collapsed": false,
    "ExecuteTime": {
     "end_time": "2024-10-27T13:39:47.205253800Z",
     "start_time": "2024-10-27T13:39:47.183254100Z"
    }
   },
   "id": "92f8dcaa8c13fcb8"
  },
  {
   "cell_type": "code",
   "execution_count": 20,
   "outputs": [
    {
     "name": "stdout",
     "output_type": "stream",
     "text": [
      "[0 0 0 1 0 0 0 0 0 0 0 0 0 1 1 0 0 0 0 0 0 1 1 1 1 0 0 1 0 1 0 0 1 1 0 0 0\n",
      " 1 1 0 1 0 1 0 0 1 0 1 0 1 0 0 0 1 0 0 0 0 0 0 0 1 0 0 1 1 0 0 0 0 0 0 0 0\n",
      " 0 0 0 0 0 0 0 1 0 0 0 1 0 1 0 0 0 0 0 0 1 1 0 1 0 0 1 0 1 0 1 0 1 1 1 1 1\n",
      " 0 0 0 1 1 0 1 1 0 0 0 0 1 0 0 1 0 0 1 0 0 0 0 0 0 1 0 1 1 0 0 0 0 1 0 1 0\n",
      " 0 0 0 0 0 1 0 0 0 1 1 1 0 0 0 0 0 1 1 0 0 1 1 0 0 0 0 0 0 1 1]\n",
      "Accuracy: 0.76\n",
      "\n",
      "Classification Report:\n",
      "               precision    recall  f1-score   support\n",
      "\n",
      "           0       0.79      0.84      0.82       114\n",
      "           1       0.69      0.62      0.65        65\n",
      "\n",
      "    accuracy                           0.76       179\n",
      "   macro avg       0.74      0.73      0.73       179\n",
      "weighted avg       0.76      0.76      0.76       179\n",
      "\n",
      "\n",
      "Confusion Matrix:\n",
      " [[96 18]\n",
      " [25 40]]\n"
     ]
    }
   ],
   "source": [
    "y_pred = model.predict(x_test)\n",
    "\n",
    "print(y_pred)\n",
    "\n",
    "accuracy = accuracy_score(y_test, y_pred)\n",
    "\n",
    "print(f\"Accuracy: {accuracy:.2f}\")\n",
    "\n",
    "# Rapport de classification\n",
    "print(\"\\nClassification Report:\\n\", classification_report(y_test, y_pred))\n",
    "\n",
    "# Matrice de confusion\n",
    "print(\"\\nConfusion Matrix:\\n\", confusion_matrix(y_test, y_pred))"
   ],
   "metadata": {
    "collapsed": false,
    "ExecuteTime": {
     "end_time": "2024-10-27T13:42:11.853797700Z",
     "start_time": "2024-10-27T13:42:11.838798800Z"
    }
   },
   "id": "b89f9eda7c00c823"
  },
  {
   "cell_type": "code",
   "execution_count": 23,
   "outputs": [
    {
     "data": {
      "text/plain": "<Figure size 1000x800 with 2 Axes>",
      "image/png": "[encoded data removed]"
     },
     "metadata": {},
     "output_type": "display_data"
    }
   ],
   "source": [
    "import seaborn as sns\n",
    "import matplotlib.pyplot as plt\n",
    "\n",
    "data_numeric = data.select_dtypes(include=['float64', 'int64'])\n",
    "plt.figure(figsize=(10, 8))\n",
    "sns.heatmap(data_numeric.corr(), annot=True, cmap='coolwarm', square=True, fmt=\".2f\", cbar_kws={'shrink': .8})\n",
    "plt.title(\"Heatmap de la matrice de corrélation\")\n",
    "plt.show()"
   ],
   "metadata": {
    "collapsed": false,
    "ExecuteTime": {
     "end_time": "2024-10-27T13:45:07.828868100Z",
     "start_time": "2024-10-27T13:45:07.581309500Z"
    }
   },
   "id": "b61366f5027e85a7"
  },
  {
   "cell_type": "markdown",
   "source": [
    "# Analyse de la Matrice de Corrélation du Dataset Titanic\n",
    "\n",
    "## Comprendre la Corrélation\n",
    "- Les valeurs de corrélation vont de -1 à 1.\n",
    "  - Une corrélation proche de **1** indique une forte corrélation positive (quand une variable augmente, l'autre aussi).\n",
    "  - Une corrélation proche de **-1** indique une forte corrélation négative (quand une variable augmente, l'autre diminue).\n",
    "  - Une corrélation proche de **0** indique qu'il n'y a pas de lien linéaire direct entre les variables.\n",
    "\n",
    "## Points Clés dans cette Matrice\n",
    "1. **Survived et Pclass** : Corrélation de **-0.34**  \n",
    "   - Plus la classe (`Pclass`) est élevée (par exemple, 3e classe), moins les chances de survie sont grandes.\n",
    "   - Les passagers des classes supérieures semblent donc avoir de meilleures chances de survie.\n",
    "\n",
    "2. **Survived et Fare** : Corrélation de **0.26**  \n",
    "   - Il y a une faible corrélation positive entre le tarif payé et les chances de survie.\n",
    "   - Cela peut indiquer que les passagers ayant payé un billet plus cher avaient un taux de survie légèrement supérieur.\n",
    "\n",
    "3. **Pclass et Fare** : Corrélation de **-0.55**  \n",
    "   - Les passagers des classes inférieures (classe 3, par exemple) ont tendance à payer moins cher leur billet.\n",
    "\n",
    "## Autres Corrélations entre Variables\n",
    "- **SibSp et Parch** : Corrélation de **0.41**  \n",
    "  - Les passagers qui voyagent avec des frères/sœurs ou des conjoints (`SibSp`) ont également tendance à voyager avec des parents ou enfants (`Parch`).\n",
    "\n",
    "- **Age et Pclass** : Corrélation de **-0.34**  \n",
    "  - Les passagers plus jeunes sont plus susceptibles de se trouver dans les classes inférieures.\n",
    "\n",
    "## Implications pour la Modélisation\n",
    "- Les variables **Pclass** et **Fare** sont pertinentes pour prédire la survie, car elles montrent une certaine corrélation avec `Survived`.\n",
    "- **SibSp et Parch** peuvent être combinées pour créer une nouvelle caractéristique, comme `FamilySize`, ce qui pourrait améliorer les prédictions."
   ],
   "metadata": {
    "collapsed": false
   },
   "id": "cd513bcc32e95272"
  },
  {
   "cell_type": "markdown",
   "source": [
    "# Essai avec algorithme de RandomForest\n"
   ],
   "metadata": {
    "collapsed": false
   },
   "id": "ca1f868bcb15482d"
  },
  {
   "cell_type": "code",
   "execution_count": 40,
   "outputs": [
    {
     "name": "stdout",
     "output_type": "stream",
     "text": [
      "Accuracy: 0.80\n",
      "Precision: 0.75\n",
      "Recall: 0.68\n",
      "F1-Score: 0.71\n",
      "ROC AUC: 0.77\n",
      "\n",
      "Classification Report:\n",
      "               precision    recall  f1-score   support\n",
      "\n",
      "           0       0.82      0.87      0.85       114\n",
      "           1       0.75      0.68      0.71        65\n",
      "\n",
      "    accuracy                           0.80       179\n",
      "   macro avg       0.79      0.77      0.78       179\n",
      "weighted avg       0.80      0.80      0.80       179\n",
      "\n",
      "\n",
      "Confusion Matrix:\n",
      " [[99 15]\n",
      " [21 44]]\n"
     ]
    }
   ],
   "source": [
    "model = RandomForestClassifier(n_estimators=200, random_state=int(time.time()))\n",
    "model.fit(x_train,y_train)\n",
    "\n",
    "y_pred = model.predict(x_test)\n",
    "\n",
    "# Calcul des métriques\n",
    "accuracy = accuracy_score(y_test, y_pred)\n",
    "precision = precision_score(y_test, y_pred)\n",
    "recall = recall_score(y_test, y_pred)\n",
    "f1 = f1_score(y_test, y_pred)\n",
    "roc_auc = roc_auc_score(y_test, y_pred)\n",
    "\n",
    "# Affichage des résultats\n",
    "print(f\"Accuracy: {accuracy:.2f}\")\n",
    "print(f\"Precision: {precision:.2f}\")\n",
    "print(f\"Recall: {recall:.2f}\")\n",
    "print(f\"F1-Score: {f1:.2f}\")\n",
    "print(f\"ROC AUC: {roc_auc:.2f}\")\n",
    "print(\"\\nClassification Report:\\n\", classification_report(y_test, y_pred))\n",
    "print(\"\\nConfusion Matrix:\\n\", confusion_matrix(y_test, y_pred))"
   ],
   "metadata": {
    "collapsed": false,
    "ExecuteTime": {
     "end_time": "2024-10-27T14:00:12.109848900Z",
     "start_time": "2024-10-27T14:00:11.825283200Z"
    }
   },
   "id": "743fff92445f726b"
  },
  {
   "cell_type": "markdown",
   "source": [
    "# RandomForest avec GridSearch"
   ],
   "metadata": {
    "collapsed": false
   },
   "id": "da3a973c191072ed"
  },
  {
   "cell_type": "code",
   "execution_count": 43,
   "outputs": [
    {
     "name": "stdout",
     "output_type": "stream",
     "text": [
      "Meilleurs paramètres : {'max_depth': 20, 'min_samples_leaf': 1, 'min_samples_split': 5, 'n_estimators': 50}\n",
      "Meilleur score de rappel (cross-validation) : 0.7618181818181817\n",
      "Accuracy: 0.81\n",
      "Precision: 0.76\n",
      "Recall: 0.69\n",
      "F1-Score: 0.73\n",
      "ROC AUC: 0.78\n",
      "\n",
      "Classification Report:\n",
      "               precision    recall  f1-score   support\n",
      "\n",
      "           0       0.83      0.88      0.85       114\n",
      "           1       0.76      0.69      0.73        65\n",
      "\n",
      "    accuracy                           0.81       179\n",
      "   macro avg       0.80      0.78      0.79       179\n",
      "weighted avg       0.81      0.81      0.81       179\n",
      "\n",
      "\n",
      "Confusion Matrix:\n",
      " [[100  14]\n",
      " [ 20  45]]\n"
     ]
    }
   ],
   "source": [
    "param_grid = {\n",
    "    'n_estimators': [50, 100, 200],  \n",
    "    'max_depth': [1, 10, 20, 30],  \n",
    "    'min_samples_split': [2, 5, 10],  \n",
    "    'min_samples_leaf': [1, 2, 4]    \n",
    "}\n",
    "\n",
    "scorer = make_scorer(recall_score)\n",
    "randomforest = RandomForestClassifier(random_state=int(time.time()))\n",
    "grid_search = GridSearchCV(estimator=randomforest, param_grid=param_grid, scoring=scorer, cv=5, n_jobs=10)\n",
    "grid_search.fit(x_train, y_train)\n",
    "best_params = grid_search.best_params_\n",
    "best_score = grid_search.best_score_\n",
    "\n",
    "print(\"Meilleurs paramètres :\", best_params)\n",
    "print(\"Meilleur score de rappel (cross-validation) :\", best_score)\n",
    "\n",
    "best_rf = grid_search.best_estimator_\n",
    "y_pred = best_rf.predict(x_test)\n",
    "\n",
    "# Calcul des métriques\n",
    "accuracy = accuracy_score(y_test, y_pred)\n",
    "precision = precision_score(y_test, y_pred)\n",
    "recall = recall_score(y_test, y_pred)\n",
    "f1 = f1_score(y_test, y_pred)\n",
    "roc_auc = roc_auc_score(y_test, y_pred)\n",
    "\n",
    "# Affichage des résultats\n",
    "print(f\"Accuracy: {accuracy:.2f}\")\n",
    "print(f\"Precision: {precision:.2f}\")\n",
    "print(f\"Recall: {recall:.2f}\")\n",
    "print(f\"F1-Score: {f1:.2f}\")\n",
    "print(f\"ROC AUC: {roc_auc:.2f}\")\n",
    "print(\"\\nClassification Report:\\n\", classification_report(y_test, y_pred))\n",
    "print(\"\\nConfusion Matrix:\\n\", confusion_matrix(y_test, y_pred))"
   ],
   "metadata": {
    "collapsed": false,
    "ExecuteTime": {
     "end_time": "2024-10-27T14:06:09.767844800Z",
     "start_time": "2024-10-27T14:05:59.061195100Z"
    }
   },
   "id": "976fe322255295e"
  }
 ],
 "metadata": {
  "kernelspec": {
   "display_name": "Python 3",
   "language": "python",
   "name": "python3"
  },
  "language_info": {
   "codemirror_mode": {
    "name": "ipython",
    "version": 2
   },
   "file_extension": ".py",
   "mimetype": "text/x-python",
   "name": "python",
   "nbconvert_exporter": "python",
   "pygments_lexer": "ipython2",
   "version": "2.7.6"
  }
 },
 "nbformat": 4,
 "nbformat_minor": 5
}
